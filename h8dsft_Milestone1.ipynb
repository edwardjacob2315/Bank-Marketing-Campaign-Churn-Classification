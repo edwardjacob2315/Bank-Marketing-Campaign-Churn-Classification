{
 "cells": [
  {
   "cell_type": "markdown",
   "id": "9cb0e4cc-78e2-4d71-bbc9-b6091a8f8533",
   "metadata": {},
   "source": [
    "# 1. Perkenalan"
   ]
  },
  {
   "cell_type": "markdown",
   "id": "647a3a3b-2a33-4fdc-8fd8-bd876c7b3a81",
   "metadata": {},
   "source": [
    "Nama: Bintang Muhammad <br>\n",
    "Course: Data Science <br>\n",
    "Batch: 6 <br>"
   ]
  },
  {
   "cell_type": "markdown",
   "id": "8b20034b-e2aa-4fe9-9541-bc0a3692f526",
   "metadata": {},
   "source": [
    "## About The Data"
   ]
  },
  {
   "cell_type": "markdown",
   "id": "61865e9c-3da8-481d-a2b8-cb16f309b444",
   "metadata": {},
   "source": [
    "- The data is related with direct marketing campaigns (phone calls) of a Portuguese banking institution.\n",
    "- Target variable: Will the client subscribe to a term deposit or not?(Variable y)\n",
    "- Objective: create multiple machine learning models to predict Target Variable, and finding the best model."
   ]
  },
  {
   "cell_type": "markdown",
   "id": "3a1e1888-728c-452c-a069-497f3b1a6bc7",
   "metadata": {},
   "source": [
    "# 2. Import Libraries"
   ]
  },
  {
   "cell_type": "code",
   "execution_count": 218,
   "id": "83e21b6b-caa5-402f-ba40-0539771c084a",
   "metadata": {},
   "outputs": [],
   "source": [
    "#import libraries\n",
    "import pandas as pd\n",
    "import matplotlib.pyplot as plt\n",
    "import seaborn as sns\n",
    "import numpy as np\n",
    "from datetime import datetime\n",
    "from sklearn.preprocessing import LabelEncoder, StandardScaler, LabelBinarizer\n",
    "from sklearn.model_selection import train_test_split, StratifiedKFold, GridSearchCV\n",
    "from sklearn_pandas import DataFrameMapper\n",
    "from sklearn.compose import ColumnTransformer\n",
    "from sklearn2pmml import PMMLPipeline\n",
    "from sklearn.linear_model import LogisticRegression\n",
    "from sklearn.svm import SVC\n",
    "from sklearn.tree import DecisionTreeClassifier\n",
    "from sklearn.ensemble import RandomForestClassifier\n",
    "from sklearn.neighbors import KNeighborsClassifier\n",
    "from sklearn.naive_bayes import GaussianNB\n",
    "from sklearn.utils import resample\n",
    "from imblearn.over_sampling import SMOTE\n",
    "from xgboost import XGBClassifier\n",
    "from imblearn.under_sampling import RandomUnderSampler  \n",
    "from sklearn.pipeline import Pipeline\n",
    "from sklearn.metrics import classification_report, roc_auc_score, average_precision_score, accuracy_score, precision_score, recall_score, f1_score,  confusion_matrix,plot_confusion_matrix"
   ]
  },
  {
   "cell_type": "markdown",
   "id": "da4b985b-1de7-4de8-ba94-4cfa0f833b42",
   "metadata": {},
   "source": [
    "# 3.  Data Loading"
   ]
  },
  {
   "cell_type": "code",
   "execution_count": 219,
   "id": "49e6f09a-308f-4eab-8596-c6fbcdbc2888",
   "metadata": {},
   "outputs": [],
   "source": [
    "#load data\n",
    "df=pd.read_csv('bank-additional-full.csv',sep=';')"
   ]
  },
  {
   "cell_type": "code",
   "execution_count": 220,
   "id": "fbef24d5-f063-45e0-8456-6a471801d06b",
   "metadata": {},
   "outputs": [
    {
     "data": {
      "text/html": [
       "<div>\n",
       "<style scoped>\n",
       "    .dataframe tbody tr th:only-of-type {\n",
       "        vertical-align: middle;\n",
       "    }\n",
       "\n",
       "    .dataframe tbody tr th {\n",
       "        vertical-align: top;\n",
       "    }\n",
       "\n",
       "    .dataframe thead th {\n",
       "        text-align: right;\n",
       "    }\n",
       "</style>\n",
       "<table border=\"1\" class=\"dataframe\">\n",
       "  <thead>\n",
       "    <tr style=\"text-align: right;\">\n",
       "      <th></th>\n",
       "      <th>age</th>\n",
       "      <th>job</th>\n",
       "      <th>marital</th>\n",
       "      <th>education</th>\n",
       "      <th>default</th>\n",
       "      <th>housing</th>\n",
       "      <th>loan</th>\n",
       "      <th>contact</th>\n",
       "      <th>month</th>\n",
       "      <th>day_of_week</th>\n",
       "      <th>...</th>\n",
       "      <th>campaign</th>\n",
       "      <th>pdays</th>\n",
       "      <th>previous</th>\n",
       "      <th>poutcome</th>\n",
       "      <th>emp.var.rate</th>\n",
       "      <th>cons.price.idx</th>\n",
       "      <th>cons.conf.idx</th>\n",
       "      <th>euribor3m</th>\n",
       "      <th>nr.employed</th>\n",
       "      <th>y</th>\n",
       "    </tr>\n",
       "  </thead>\n",
       "  <tbody>\n",
       "    <tr>\n",
       "      <th>0</th>\n",
       "      <td>56</td>\n",
       "      <td>housemaid</td>\n",
       "      <td>married</td>\n",
       "      <td>basic.4y</td>\n",
       "      <td>no</td>\n",
       "      <td>no</td>\n",
       "      <td>no</td>\n",
       "      <td>telephone</td>\n",
       "      <td>may</td>\n",
       "      <td>mon</td>\n",
       "      <td>...</td>\n",
       "      <td>1</td>\n",
       "      <td>999</td>\n",
       "      <td>0</td>\n",
       "      <td>nonexistent</td>\n",
       "      <td>1.1</td>\n",
       "      <td>93.994</td>\n",
       "      <td>-36.4</td>\n",
       "      <td>4.857</td>\n",
       "      <td>5191.0</td>\n",
       "      <td>no</td>\n",
       "    </tr>\n",
       "    <tr>\n",
       "      <th>1</th>\n",
       "      <td>57</td>\n",
       "      <td>services</td>\n",
       "      <td>married</td>\n",
       "      <td>high.school</td>\n",
       "      <td>unknown</td>\n",
       "      <td>no</td>\n",
       "      <td>no</td>\n",
       "      <td>telephone</td>\n",
       "      <td>may</td>\n",
       "      <td>mon</td>\n",
       "      <td>...</td>\n",
       "      <td>1</td>\n",
       "      <td>999</td>\n",
       "      <td>0</td>\n",
       "      <td>nonexistent</td>\n",
       "      <td>1.1</td>\n",
       "      <td>93.994</td>\n",
       "      <td>-36.4</td>\n",
       "      <td>4.857</td>\n",
       "      <td>5191.0</td>\n",
       "      <td>no</td>\n",
       "    </tr>\n",
       "    <tr>\n",
       "      <th>2</th>\n",
       "      <td>37</td>\n",
       "      <td>services</td>\n",
       "      <td>married</td>\n",
       "      <td>high.school</td>\n",
       "      <td>no</td>\n",
       "      <td>yes</td>\n",
       "      <td>no</td>\n",
       "      <td>telephone</td>\n",
       "      <td>may</td>\n",
       "      <td>mon</td>\n",
       "      <td>...</td>\n",
       "      <td>1</td>\n",
       "      <td>999</td>\n",
       "      <td>0</td>\n",
       "      <td>nonexistent</td>\n",
       "      <td>1.1</td>\n",
       "      <td>93.994</td>\n",
       "      <td>-36.4</td>\n",
       "      <td>4.857</td>\n",
       "      <td>5191.0</td>\n",
       "      <td>no</td>\n",
       "    </tr>\n",
       "    <tr>\n",
       "      <th>3</th>\n",
       "      <td>40</td>\n",
       "      <td>admin.</td>\n",
       "      <td>married</td>\n",
       "      <td>basic.6y</td>\n",
       "      <td>no</td>\n",
       "      <td>no</td>\n",
       "      <td>no</td>\n",
       "      <td>telephone</td>\n",
       "      <td>may</td>\n",
       "      <td>mon</td>\n",
       "      <td>...</td>\n",
       "      <td>1</td>\n",
       "      <td>999</td>\n",
       "      <td>0</td>\n",
       "      <td>nonexistent</td>\n",
       "      <td>1.1</td>\n",
       "      <td>93.994</td>\n",
       "      <td>-36.4</td>\n",
       "      <td>4.857</td>\n",
       "      <td>5191.0</td>\n",
       "      <td>no</td>\n",
       "    </tr>\n",
       "    <tr>\n",
       "      <th>4</th>\n",
       "      <td>56</td>\n",
       "      <td>services</td>\n",
       "      <td>married</td>\n",
       "      <td>high.school</td>\n",
       "      <td>no</td>\n",
       "      <td>no</td>\n",
       "      <td>yes</td>\n",
       "      <td>telephone</td>\n",
       "      <td>may</td>\n",
       "      <td>mon</td>\n",
       "      <td>...</td>\n",
       "      <td>1</td>\n",
       "      <td>999</td>\n",
       "      <td>0</td>\n",
       "      <td>nonexistent</td>\n",
       "      <td>1.1</td>\n",
       "      <td>93.994</td>\n",
       "      <td>-36.4</td>\n",
       "      <td>4.857</td>\n",
       "      <td>5191.0</td>\n",
       "      <td>no</td>\n",
       "    </tr>\n",
       "  </tbody>\n",
       "</table>\n",
       "<p>5 rows × 21 columns</p>\n",
       "</div>"
      ],
      "text/plain": [
       "   age        job  marital    education  default housing loan    contact  \\\n",
       "0   56  housemaid  married     basic.4y       no      no   no  telephone   \n",
       "1   57   services  married  high.school  unknown      no   no  telephone   \n",
       "2   37   services  married  high.school       no     yes   no  telephone   \n",
       "3   40     admin.  married     basic.6y       no      no   no  telephone   \n",
       "4   56   services  married  high.school       no      no  yes  telephone   \n",
       "\n",
       "  month day_of_week  ...  campaign  pdays  previous     poutcome emp.var.rate  \\\n",
       "0   may         mon  ...         1    999         0  nonexistent          1.1   \n",
       "1   may         mon  ...         1    999         0  nonexistent          1.1   \n",
       "2   may         mon  ...         1    999         0  nonexistent          1.1   \n",
       "3   may         mon  ...         1    999         0  nonexistent          1.1   \n",
       "4   may         mon  ...         1    999         0  nonexistent          1.1   \n",
       "\n",
       "   cons.price.idx  cons.conf.idx  euribor3m  nr.employed   y  \n",
       "0          93.994          -36.4      4.857       5191.0  no  \n",
       "1          93.994          -36.4      4.857       5191.0  no  \n",
       "2          93.994          -36.4      4.857       5191.0  no  \n",
       "3          93.994          -36.4      4.857       5191.0  no  \n",
       "4          93.994          -36.4      4.857       5191.0  no  \n",
       "\n",
       "[5 rows x 21 columns]"
      ]
     },
     "execution_count": 220,
     "metadata": {},
     "output_type": "execute_result"
    }
   ],
   "source": [
    "#view data\n",
    "df.head()"
   ]
  },
  {
   "cell_type": "markdown",
   "id": "5c6d2b31-325e-4be0-85bc-601f1d56050b",
   "metadata": {},
   "source": [
    "- Data consists of categorical and numerical features\n",
    "- Data consists of a persons's profile"
   ]
  },
  {
   "cell_type": "markdown",
   "id": "ca7ad60e-c6b1-4016-98fe-4ececb14b703",
   "metadata": {},
   "source": [
    "# 4. Data Cleaning"
   ]
  },
  {
   "cell_type": "code",
   "execution_count": 221,
   "id": "ae0dcc2f-b39e-475c-b342-5f7e08f5b906",
   "metadata": {},
   "outputs": [
    {
     "name": "stdout",
     "output_type": "stream",
     "text": [
      "<class 'pandas.core.frame.DataFrame'>\n",
      "RangeIndex: 41188 entries, 0 to 41187\n",
      "Data columns (total 21 columns):\n",
      " #   Column          Non-Null Count  Dtype  \n",
      "---  ------          --------------  -----  \n",
      " 0   age             41188 non-null  int64  \n",
      " 1   job             41188 non-null  object \n",
      " 2   marital         41188 non-null  object \n",
      " 3   education       41188 non-null  object \n",
      " 4   default         41188 non-null  object \n",
      " 5   housing         41188 non-null  object \n",
      " 6   loan            41188 non-null  object \n",
      " 7   contact         41188 non-null  object \n",
      " 8   month           41188 non-null  object \n",
      " 9   day_of_week     41188 non-null  object \n",
      " 10  duration        41188 non-null  int64  \n",
      " 11  campaign        41188 non-null  int64  \n",
      " 12  pdays           41188 non-null  int64  \n",
      " 13  previous        41188 non-null  int64  \n",
      " 14  poutcome        41188 non-null  object \n",
      " 15  emp.var.rate    41188 non-null  float64\n",
      " 16  cons.price.idx  41188 non-null  float64\n",
      " 17  cons.conf.idx   41188 non-null  float64\n",
      " 18  euribor3m       41188 non-null  float64\n",
      " 19  nr.employed     41188 non-null  float64\n",
      " 20  y               41188 non-null  object \n",
      "dtypes: float64(5), int64(5), object(11)\n",
      "memory usage: 6.6+ MB\n"
     ]
    }
   ],
   "source": [
    "#view data info\n",
    "df.info()"
   ]
  },
  {
   "cell_type": "markdown",
   "id": "00cbb57d-4456-4c9d-b695-9e98bf334d17",
   "metadata": {},
   "source": [
    "- The data consists of 21 columns and 41188 rows\n",
    "- The data types are float(5 features), integer(5 features), object(11 features)\n",
    "- There is no null values in the data"
   ]
  },
  {
   "cell_type": "code",
   "execution_count": 222,
   "id": "eedc52bd-cfab-47c4-bbbe-0c99fb4d7a12",
   "metadata": {},
   "outputs": [
    {
     "data": {
      "text/plain": [
       "age               0\n",
       "job               0\n",
       "marital           0\n",
       "education         0\n",
       "default           0\n",
       "housing           0\n",
       "loan              0\n",
       "contact           0\n",
       "month             0\n",
       "day_of_week       0\n",
       "duration          0\n",
       "campaign          0\n",
       "pdays             0\n",
       "previous          0\n",
       "poutcome          0\n",
       "emp.var.rate      0\n",
       "cons.price.idx    0\n",
       "cons.conf.idx     0\n",
       "euribor3m         0\n",
       "nr.employed       0\n",
       "y                 0\n",
       "dtype: int64"
      ]
     },
     "execution_count": 222,
     "metadata": {},
     "output_type": "execute_result"
    }
   ],
   "source": [
    "#check null values\n",
    "df.isna().sum()"
   ]
  },
  {
   "cell_type": "markdown",
   "id": "698f55c5-e2e9-4859-82e4-4fd5d304f388",
   "metadata": {},
   "source": [
    "- no null values"
   ]
  },
  {
   "cell_type": "code",
   "execution_count": 223,
   "id": "9ef85d61-807d-4922-a72c-3b2a6b94b469",
   "metadata": {},
   "outputs": [
    {
     "data": {
      "text/plain": [
       "12"
      ]
     },
     "execution_count": 223,
     "metadata": {},
     "output_type": "execute_result"
    }
   ],
   "source": [
    "#check duplicate rows\n",
    "df.duplicated().sum()"
   ]
  },
  {
   "cell_type": "markdown",
   "id": "503763c6-5791-4cc7-89a4-62e8e994115e",
   "metadata": {},
   "source": [
    "- there is duplicate rows on the data"
   ]
  },
  {
   "cell_type": "code",
   "execution_count": 224,
   "id": "f62d9ca8-2e02-473d-9bac-f109d1c8efb4",
   "metadata": {},
   "outputs": [],
   "source": [
    "#drop duplicate rows\n",
    "df=df.drop_duplicates()"
   ]
  },
  {
   "cell_type": "code",
   "execution_count": 225,
   "id": "0b2e2290-b27e-40d1-ba07-c0bbb70cf0ae",
   "metadata": {},
   "outputs": [
    {
     "data": {
      "text/plain": [
       "0"
      ]
     },
     "execution_count": 225,
     "metadata": {},
     "output_type": "execute_result"
    }
   ],
   "source": [
    "#check again\n",
    "df.duplicated().sum()"
   ]
  },
  {
   "cell_type": "markdown",
   "id": "25542f40-d431-4b18-a552-80150994e552",
   "metadata": {},
   "source": [
    "- No duplicate values after dropping"
   ]
  },
  {
   "cell_type": "code",
   "execution_count": 226,
   "id": "9d8e8ead-1770-4a96-86a5-f5aaf78d9cb3",
   "metadata": {},
   "outputs": [
    {
     "data": {
      "text/plain": [
       "<AxesSubplot:>"
      ]
     },
     "execution_count": 226,
     "metadata": {},
     "output_type": "execute_result"
    },
    {
     "data": {
      "image/png": "[encoded data removed]",
      "text/plain": [
       "<Figure size 1080x720 with 2 Axes>"
      ]
     },
     "metadata": {
      "needs_background": "light"
     },
     "output_type": "display_data"
    }
   ],
   "source": [
    "#view heatmap correlation to check redundant datas\n",
    "plt.figure(figsize=(15,10))\n",
    "sns.heatmap(df.corr(),annot=True, fmt='.2f')"
   ]
  },
  {
   "cell_type": "markdown",
   "id": "338fbac3-1684-4ad6-bbfa-d9405cdff552",
   "metadata": {},
   "source": [
    "- emp.var.rate is redudnant with 2 features: nr.employed and cons.price index, so i will drop it.\n",
    "- euribor3m is also redundant with 2 features: nr.employed and emp.var.rate, so i will drop it"
   ]
  },
  {
   "cell_type": "code",
   "execution_count": 227,
   "id": "57ace5c6-6385-4f48-9b08-1e1443fcc2dd",
   "metadata": {},
   "outputs": [],
   "source": [
    "#drop columns\n",
    "df=df.drop(columns=['euribor3m','emp.var.rate'])"
   ]
  },
  {
   "cell_type": "code",
   "execution_count": 228,
   "id": "ed65494b-9250-4af1-8403-ca0d4e54f10f",
   "metadata": {},
   "outputs": [],
   "source": [
    "#change age data type\n",
    "df=df.astype({'age':'int64'})"
   ]
  },
  {
   "cell_type": "code",
   "execution_count": 229,
   "id": "c3afc2da-7037-4d1e-848c-33baf42015bd",
   "metadata": {},
   "outputs": [],
   "source": [
    "#rename features\n",
    "df=df.rename(columns={'cons.price.idx':'cpi','cons.conf.idx':'cci','nr.employed':'nr.emp','y':'subs.td','default':'has.credit'})"
   ]
  },
  {
   "cell_type": "code",
   "execution_count": 230,
   "id": "7e5baa52-e116-40ad-9f68-66015b5e3466",
   "metadata": {},
   "outputs": [
    {
     "data": {
      "text/html": [
       "<div>\n",
       "<style scoped>\n",
       "    .dataframe tbody tr th:only-of-type {\n",
       "        vertical-align: middle;\n",
       "    }\n",
       "\n",
       "    .dataframe tbody tr th {\n",
       "        vertical-align: top;\n",
       "    }\n",
       "\n",
       "    .dataframe thead th {\n",
       "        text-align: right;\n",
       "    }\n",
       "</style>\n",
       "<table border=\"1\" class=\"dataframe\">\n",
       "  <thead>\n",
       "    <tr style=\"text-align: right;\">\n",
       "      <th></th>\n",
       "      <th>age</th>\n",
       "      <th>job</th>\n",
       "      <th>marital</th>\n",
       "      <th>education</th>\n",
       "      <th>has.credit</th>\n",
       "      <th>housing</th>\n",
       "      <th>loan</th>\n",
       "      <th>contact</th>\n",
       "      <th>month</th>\n",
       "      <th>day_of_week</th>\n",
       "      <th>duration</th>\n",
       "      <th>campaign</th>\n",
       "      <th>pdays</th>\n",
       "      <th>previous</th>\n",
       "      <th>poutcome</th>\n",
       "      <th>cpi</th>\n",
       "      <th>cci</th>\n",
       "      <th>nr.emp</th>\n",
       "      <th>subs.td</th>\n",
       "    </tr>\n",
       "  </thead>\n",
       "  <tbody>\n",
       "    <tr>\n",
       "      <th>0</th>\n",
       "      <td>56</td>\n",
       "      <td>housemaid</td>\n",
       "      <td>married</td>\n",
       "      <td>basic.4y</td>\n",
       "      <td>no</td>\n",
       "      <td>no</td>\n",
       "      <td>no</td>\n",
       "      <td>telephone</td>\n",
       "      <td>may</td>\n",
       "      <td>mon</td>\n",
       "      <td>261</td>\n",
       "      <td>1</td>\n",
       "      <td>999</td>\n",
       "      <td>0</td>\n",
       "      <td>nonexistent</td>\n",
       "      <td>93.994</td>\n",
       "      <td>-36.4</td>\n",
       "      <td>5191.0</td>\n",
       "      <td>no</td>\n",
       "    </tr>\n",
       "    <tr>\n",
       "      <th>1</th>\n",
       "      <td>57</td>\n",
       "      <td>services</td>\n",
       "      <td>married</td>\n",
       "      <td>high.school</td>\n",
       "      <td>unknown</td>\n",
       "      <td>no</td>\n",
       "      <td>no</td>\n",
       "      <td>telephone</td>\n",
       "      <td>may</td>\n",
       "      <td>mon</td>\n",
       "      <td>149</td>\n",
       "      <td>1</td>\n",
       "      <td>999</td>\n",
       "      <td>0</td>\n",
       "      <td>nonexistent</td>\n",
       "      <td>93.994</td>\n",
       "      <td>-36.4</td>\n",
       "      <td>5191.0</td>\n",
       "      <td>no</td>\n",
       "    </tr>\n",
       "    <tr>\n",
       "      <th>2</th>\n",
       "      <td>37</td>\n",
       "      <td>services</td>\n",
       "      <td>married</td>\n",
       "      <td>high.school</td>\n",
       "      <td>no</td>\n",
       "      <td>yes</td>\n",
       "      <td>no</td>\n",
       "      <td>telephone</td>\n",
       "      <td>may</td>\n",
       "      <td>mon</td>\n",
       "      <td>226</td>\n",
       "      <td>1</td>\n",
       "      <td>999</td>\n",
       "      <td>0</td>\n",
       "      <td>nonexistent</td>\n",
       "      <td>93.994</td>\n",
       "      <td>-36.4</td>\n",
       "      <td>5191.0</td>\n",
       "      <td>no</td>\n",
       "    </tr>\n",
       "    <tr>\n",
       "      <th>3</th>\n",
       "      <td>40</td>\n",
       "      <td>admin.</td>\n",
       "      <td>married</td>\n",
       "      <td>basic.6y</td>\n",
       "      <td>no</td>\n",
       "      <td>no</td>\n",
       "      <td>no</td>\n",
       "      <td>telephone</td>\n",
       "      <td>may</td>\n",
       "      <td>mon</td>\n",
       "      <td>151</td>\n",
       "      <td>1</td>\n",
       "      <td>999</td>\n",
       "      <td>0</td>\n",
       "      <td>nonexistent</td>\n",
       "      <td>93.994</td>\n",
       "      <td>-36.4</td>\n",
       "      <td>5191.0</td>\n",
       "      <td>no</td>\n",
       "    </tr>\n",
       "    <tr>\n",
       "      <th>4</th>\n",
       "      <td>56</td>\n",
       "      <td>services</td>\n",
       "      <td>married</td>\n",
       "      <td>high.school</td>\n",
       "      <td>no</td>\n",
       "      <td>no</td>\n",
       "      <td>yes</td>\n",
       "      <td>telephone</td>\n",
       "      <td>may</td>\n",
       "      <td>mon</td>\n",
       "      <td>307</td>\n",
       "      <td>1</td>\n",
       "      <td>999</td>\n",
       "      <td>0</td>\n",
       "      <td>nonexistent</td>\n",
       "      <td>93.994</td>\n",
       "      <td>-36.4</td>\n",
       "      <td>5191.0</td>\n",
       "      <td>no</td>\n",
       "    </tr>\n",
       "  </tbody>\n",
       "</table>\n",
       "</div>"
      ],
      "text/plain": [
       "   age        job  marital    education has.credit housing loan    contact  \\\n",
       "0   56  housemaid  married     basic.4y         no      no   no  telephone   \n",
       "1   57   services  married  high.school    unknown      no   no  telephone   \n",
       "2   37   services  married  high.school         no     yes   no  telephone   \n",
       "3   40     admin.  married     basic.6y         no      no   no  telephone   \n",
       "4   56   services  married  high.school         no      no  yes  telephone   \n",
       "\n",
       "  month day_of_week  duration  campaign  pdays  previous     poutcome     cpi  \\\n",
       "0   may         mon       261         1    999         0  nonexistent  93.994   \n",
       "1   may         mon       149         1    999         0  nonexistent  93.994   \n",
       "2   may         mon       226         1    999         0  nonexistent  93.994   \n",
       "3   may         mon       151         1    999         0  nonexistent  93.994   \n",
       "4   may         mon       307         1    999         0  nonexistent  93.994   \n",
       "\n",
       "    cci  nr.emp subs.td  \n",
       "0 -36.4  5191.0      no  \n",
       "1 -36.4  5191.0      no  \n",
       "2 -36.4  5191.0      no  \n",
       "3 -36.4  5191.0      no  \n",
       "4 -36.4  5191.0      no  "
      ]
     },
     "execution_count": 230,
     "metadata": {},
     "output_type": "execute_result"
    }
   ],
   "source": [
    "#view data\n",
    "df.head()"
   ]
  },
  {
   "cell_type": "markdown",
   "id": "e1be306c-72ee-4c3e-a156-1bf04c2d8226",
   "metadata": {},
   "source": [
    "# 5. Data Exploration"
   ]
  },
  {
   "cell_type": "markdown",
   "id": "521eec6d-a44b-40c3-8ad8-e4f90e589dec",
   "metadata": {},
   "source": [
    "| Variable | Definition | Example |\n",
    "| ----------- | ----------- | ----------- | \n",
    "| Age (numeric)| age of the client | 55, 60 |\n",
    "| Job | Type of job | admin, blue-collar, entrepreneur |\n",
    "| Marital | Marital status | divorced, married, single |\n",
    "| Education | Education of the client | illiterate, professional course, university degree |\n",
    "|has.credit | Has credit in default? |'no', 'yes', 'unknown'|\n",
    "|housing | Has housing loan? |'no', 'yes', 'unknown'|\n",
    "|loan | Has personal loan? |'no', 'yes', 'unknown'|\n",
    "|contact | Contact communication type |'cellular',' telephone'|\n",
    "|month | Last contact month of year |'jan', 'feb', 'mar'|\n",
    "|day_of_week | Last contact day of the week | 'mon', 'tue', 'wed'|\n",
    "|duration | Last contact duration, in seconds | (numeric)|\n",
    "|campaign | Number of contacts performed during this campaign and for this client| (numeric, includes last contact)|\n",
    "|pdays | Number of days that passed by after the client was last contacted from a previous campaign | (numeric; 999 means client was not previously contacted)|\n",
    "|previous | Number of contacts performed before this campaign and for this client | (numeric)|\n",
    "|poutcome | Outcome of the previous marketing campaign |'failure','nonexistent','success'|\n",
    "|cpi | Consumer Price Index - monthly indicator | (numeric)|\n",
    "|cci | Consumer Confidence Index - monthly indicator | (numeric)|\n",
    "|nr.emp | Number of employees - quarterly indicator | (numeric)|\n",
    "|subs.td | Has the client subscribed a term deposit? | (binary: 'yes','no')|"
   ]
  },
  {
   "cell_type": "code",
   "execution_count": 231,
   "id": "949af0a7-b0a7-4530-9784-e51240822333",
   "metadata": {},
   "outputs": [
    {
     "name": "stdout",
     "output_type": "stream",
     "text": [
      "<class 'pandas.core.frame.DataFrame'>\n",
      "Int64Index: 41176 entries, 0 to 41187\n",
      "Data columns (total 19 columns):\n",
      " #   Column       Non-Null Count  Dtype  \n",
      "---  ------       --------------  -----  \n",
      " 0   age          41176 non-null  int64  \n",
      " 1   job          41176 non-null  object \n",
      " 2   marital      41176 non-null  object \n",
      " 3   education    41176 non-null  object \n",
      " 4   has.credit   41176 non-null  object \n",
      " 5   housing      41176 non-null  object \n",
      " 6   loan         41176 non-null  object \n",
      " 7   contact      41176 non-null  object \n",
      " 8   month        41176 non-null  object \n",
      " 9   day_of_week  41176 non-null  object \n",
      " 10  duration     41176 non-null  int64  \n",
      " 11  campaign     41176 non-null  int64  \n",
      " 12  pdays        41176 non-null  int64  \n",
      " 13  previous     41176 non-null  int64  \n",
      " 14  poutcome     41176 non-null  object \n",
      " 15  cpi          41176 non-null  float64\n",
      " 16  cci          41176 non-null  float64\n",
      " 17  nr.emp       41176 non-null  float64\n",
      " 18  subs.td      41176 non-null  object \n",
      "dtypes: float64(3), int64(5), object(11)\n",
      "memory usage: 6.3+ MB\n"
     ]
    }
   ],
   "source": [
    "#view data info\n",
    "df.info()"
   ]
  },
  {
   "cell_type": "markdown",
   "id": "c878700b-5f68-4069-8ed3-bc60e62de7e7",
   "metadata": {},
   "source": [
    "- The data consists of 19 columns and 41175 rows after cleaning\n",
    "- The data types are float(5 features), integer(5 features), object(11 features)\n",
    "- There is no null values in the data"
   ]
  },
  {
   "cell_type": "code",
   "execution_count": 232,
   "id": "439791c4-b554-4c8b-b706-0e8a31a594af",
   "metadata": {},
   "outputs": [
    {
     "data": {
      "text/html": [
       "<div>\n",
       "<style scoped>\n",
       "    .dataframe tbody tr th:only-of-type {\n",
       "        vertical-align: middle;\n",
       "    }\n",
       "\n",
       "    .dataframe tbody tr th {\n",
       "        vertical-align: top;\n",
       "    }\n",
       "\n",
       "    .dataframe thead th {\n",
       "        text-align: right;\n",
       "    }\n",
       "</style>\n",
       "<table border=\"1\" class=\"dataframe\">\n",
       "  <thead>\n",
       "    <tr style=\"text-align: right;\">\n",
       "      <th></th>\n",
       "      <th>age</th>\n",
       "      <th>duration</th>\n",
       "      <th>campaign</th>\n",
       "      <th>pdays</th>\n",
       "      <th>previous</th>\n",
       "      <th>cpi</th>\n",
       "      <th>cci</th>\n",
       "      <th>nr.emp</th>\n",
       "    </tr>\n",
       "  </thead>\n",
       "  <tbody>\n",
       "    <tr>\n",
       "      <th>count</th>\n",
       "      <td>41176.00000</td>\n",
       "      <td>41176.000000</td>\n",
       "      <td>41176.000000</td>\n",
       "      <td>41176.000000</td>\n",
       "      <td>41176.000000</td>\n",
       "      <td>41176.000000</td>\n",
       "      <td>41176.000000</td>\n",
       "      <td>41176.000000</td>\n",
       "    </tr>\n",
       "    <tr>\n",
       "      <th>mean</th>\n",
       "      <td>40.02380</td>\n",
       "      <td>258.315815</td>\n",
       "      <td>2.567879</td>\n",
       "      <td>962.464810</td>\n",
       "      <td>0.173013</td>\n",
       "      <td>93.575720</td>\n",
       "      <td>-40.502863</td>\n",
       "      <td>5167.034870</td>\n",
       "    </tr>\n",
       "    <tr>\n",
       "      <th>std</th>\n",
       "      <td>10.42068</td>\n",
       "      <td>259.305321</td>\n",
       "      <td>2.770318</td>\n",
       "      <td>186.937102</td>\n",
       "      <td>0.494964</td>\n",
       "      <td>0.578839</td>\n",
       "      <td>4.627860</td>\n",
       "      <td>72.251364</td>\n",
       "    </tr>\n",
       "    <tr>\n",
       "      <th>min</th>\n",
       "      <td>17.00000</td>\n",
       "      <td>0.000000</td>\n",
       "      <td>1.000000</td>\n",
       "      <td>0.000000</td>\n",
       "      <td>0.000000</td>\n",
       "      <td>92.201000</td>\n",
       "      <td>-50.800000</td>\n",
       "      <td>4963.600000</td>\n",
       "    </tr>\n",
       "    <tr>\n",
       "      <th>25%</th>\n",
       "      <td>32.00000</td>\n",
       "      <td>102.000000</td>\n",
       "      <td>1.000000</td>\n",
       "      <td>999.000000</td>\n",
       "      <td>0.000000</td>\n",
       "      <td>93.075000</td>\n",
       "      <td>-42.700000</td>\n",
       "      <td>5099.100000</td>\n",
       "    </tr>\n",
       "    <tr>\n",
       "      <th>50%</th>\n",
       "      <td>38.00000</td>\n",
       "      <td>180.000000</td>\n",
       "      <td>2.000000</td>\n",
       "      <td>999.000000</td>\n",
       "      <td>0.000000</td>\n",
       "      <td>93.749000</td>\n",
       "      <td>-41.800000</td>\n",
       "      <td>5191.000000</td>\n",
       "    </tr>\n",
       "    <tr>\n",
       "      <th>75%</th>\n",
       "      <td>47.00000</td>\n",
       "      <td>319.000000</td>\n",
       "      <td>3.000000</td>\n",
       "      <td>999.000000</td>\n",
       "      <td>0.000000</td>\n",
       "      <td>93.994000</td>\n",
       "      <td>-36.400000</td>\n",
       "      <td>5228.100000</td>\n",
       "    </tr>\n",
       "    <tr>\n",
       "      <th>max</th>\n",
       "      <td>98.00000</td>\n",
       "      <td>4918.000000</td>\n",
       "      <td>56.000000</td>\n",
       "      <td>999.000000</td>\n",
       "      <td>7.000000</td>\n",
       "      <td>94.767000</td>\n",
       "      <td>-26.900000</td>\n",
       "      <td>5228.100000</td>\n",
       "    </tr>\n",
       "  </tbody>\n",
       "</table>\n",
       "</div>"
      ],
      "text/plain": [
       "               age      duration      campaign         pdays      previous  \\\n",
       "count  41176.00000  41176.000000  41176.000000  41176.000000  41176.000000   \n",
       "mean      40.02380    258.315815      2.567879    962.464810      0.173013   \n",
       "std       10.42068    259.305321      2.770318    186.937102      0.494964   \n",
       "min       17.00000      0.000000      1.000000      0.000000      0.000000   \n",
       "25%       32.00000    102.000000      1.000000    999.000000      0.000000   \n",
       "50%       38.00000    180.000000      2.000000    999.000000      0.000000   \n",
       "75%       47.00000    319.000000      3.000000    999.000000      0.000000   \n",
       "max       98.00000   4918.000000     56.000000    999.000000      7.000000   \n",
       "\n",
       "                cpi           cci        nr.emp  \n",
       "count  41176.000000  41176.000000  41176.000000  \n",
       "mean      93.575720    -40.502863   5167.034870  \n",
       "std        0.578839      4.627860     72.251364  \n",
       "min       92.201000    -50.800000   4963.600000  \n",
       "25%       93.075000    -42.700000   5099.100000  \n",
       "50%       93.749000    -41.800000   5191.000000  \n",
       "75%       93.994000    -36.400000   5228.100000  \n",
       "max       94.767000    -26.900000   5228.100000  "
      ]
     },
     "execution_count": 232,
     "metadata": {},
     "output_type": "execute_result"
    }
   ],
   "source": [
    "#view stats\n",
    "df.describe()"
   ]
  },
  {
   "cell_type": "markdown",
   "id": "6e461646-b849-43f9-83d1-6a7a581bf6e3",
   "metadata": {},
   "source": [
    "- Pdays, and CCI have a higher std than the mean,which means there is a high variability in the data.\n",
    "- Mean > Median features: age, duration, campaign, previous, possibly positively skewed.\n",
    "- Mean < Median features: pdays, cpi, cci, nr.emp, possibly negatively skewed\n",
    "- Age, duration, campaign have a large distance from Q3 to max value, indicating a large range."
   ]
  },
  {
   "cell_type": "code",
   "execution_count": 233,
   "id": "847708a4-bbe7-4cda-9870-a65a9a425268",
   "metadata": {},
   "outputs": [
    {
     "data": {
      "image/png": "[encoded data removed]",
      "text/plain": [
       "<Figure size 1080x720 with 8 Axes>"
      ]
     },
     "metadata": {
      "needs_background": "light"
     },
     "output_type": "display_data"
    }
   ],
   "source": [
    "#select numerical features only\n",
    "nums=df.select_dtypes(['int64','float64']).columns\n",
    "\n",
    "#visualize data with boxplot\n",
    "plt.figure(figsize=(15,10))\n",
    "for i in range(0,len(nums)):\n",
    "    plt.subplot(2,4,i+1)\n",
    "    sns.boxplot(y=df[nums[i]],orient ='v')\n",
    "    plt.tight_layout()"
   ]
  },
  {
   "cell_type": "markdown",
   "id": "47921c58-13ca-4e49-b43a-6599cc1e255f",
   "metadata": {},
   "source": [
    "- Have outliers: Age, Previous, duration, campaign, pdays\n",
    "- Does not have outliers: cpi, nr.emp"
   ]
  },
  {
   "cell_type": "code",
   "execution_count": 234,
   "id": "265cc57d-34e2-487b-9a3c-3d002d2f6fd8",
   "metadata": {},
   "outputs": [
    {
     "name": "stdout",
     "output_type": "stream",
     "text": [
      "Column age outliers = 1.14%\n",
      "Column duration outliers = 7.20%\n",
      "Column campaign outliers = 8.22%\n",
      "Column pdays outliers = 100.00%\n",
      "Column previous outliers = 100.00%\n",
      "Column cpi outliers = 0.00%\n",
      "Column cci outliers = 1.08%\n",
      "Column nr.emp outliers = 0.00%\n"
     ]
    }
   ],
   "source": [
    "#took numerical data\n",
    "nums2=df.select_dtypes(include=['int64','float64'])\n",
    "\n",
    "#look for outliers in numerical data\n",
    "for i, x in nums2.items():\n",
    "    q1 = x.quantile(0.25)\n",
    "    q3 = x.quantile(0.75)\n",
    "    iqr = q3 - q1\n",
    "    xcol = x[(x <= q1 - 1.5 * iqr) | (x >= q3 + 1.5 * iqr)]\n",
    "    perc = np.shape(xcol)[0] * 100.0/np.shape(nums2)[0]\n",
    "    print(\"Column %s outliers = %.2f%%\" % (i, perc))\n",
    "    \n",
    "# i = name of columns"
   ]
  },
  {
   "cell_type": "markdown",
   "id": "60c42200-e1f6-4506-8f56-4900b782d06a",
   "metadata": {},
   "source": [
    "- Most of the features have outliers below 10%, except pdays and previous\n",
    "- I will not remove outliers from pdays and previous because it will cause losing so much data, and we cannot see the effect of pdays and previous on the model"
   ]
  },
  {
   "cell_type": "code",
   "execution_count": 235,
   "id": "733e3a4a-296f-46c1-a948-1dca2de94780",
   "metadata": {},
   "outputs": [
    {
     "name": "stderr",
     "output_type": "stream",
     "text": [
      "C:\\Users\\User\\anaconda3\\lib\\site-packages\\seaborn\\distributions.py:2619: FutureWarning: `distplot` is a deprecated function and will be removed in a future version. Please adapt your code to use either `displot` (a figure-level function with similar flexibility) or `histplot` (an axes-level function for histograms).\n",
      "  warnings.warn(msg, FutureWarning)\n",
      "C:\\Users\\User\\anaconda3\\lib\\site-packages\\seaborn\\distributions.py:2619: FutureWarning: `distplot` is a deprecated function and will be removed in a future version. Please adapt your code to use either `displot` (a figure-level function with similar flexibility) or `histplot` (an axes-level function for histograms).\n",
      "  warnings.warn(msg, FutureWarning)\n",
      "C:\\Users\\User\\anaconda3\\lib\\site-packages\\seaborn\\distributions.py:2619: FutureWarning: `distplot` is a deprecated function and will be removed in a future version. Please adapt your code to use either `displot` (a figure-level function with similar flexibility) or `histplot` (an axes-level function for histograms).\n",
      "  warnings.warn(msg, FutureWarning)\n",
      "C:\\Users\\User\\anaconda3\\lib\\site-packages\\seaborn\\distributions.py:2619: FutureWarning: `distplot` is a deprecated function and will be removed in a future version. Please adapt your code to use either `displot` (a figure-level function with similar flexibility) or `histplot` (an axes-level function for histograms).\n",
      "  warnings.warn(msg, FutureWarning)\n",
      "C:\\Users\\User\\anaconda3\\lib\\site-packages\\seaborn\\distributions.py:2619: FutureWarning: `distplot` is a deprecated function and will be removed in a future version. Please adapt your code to use either `displot` (a figure-level function with similar flexibility) or `histplot` (an axes-level function for histograms).\n",
      "  warnings.warn(msg, FutureWarning)\n",
      "C:\\Users\\User\\anaconda3\\lib\\site-packages\\seaborn\\distributions.py:2619: FutureWarning: `distplot` is a deprecated function and will be removed in a future version. Please adapt your code to use either `displot` (a figure-level function with similar flexibility) or `histplot` (an axes-level function for histograms).\n",
      "  warnings.warn(msg, FutureWarning)\n",
      "C:\\Users\\User\\anaconda3\\lib\\site-packages\\seaborn\\distributions.py:2619: FutureWarning: `distplot` is a deprecated function and will be removed in a future version. Please adapt your code to use either `displot` (a figure-level function with similar flexibility) or `histplot` (an axes-level function for histograms).\n",
      "  warnings.warn(msg, FutureWarning)\n",
      "C:\\Users\\User\\anaconda3\\lib\\site-packages\\seaborn\\distributions.py:2619: FutureWarning: `distplot` is a deprecated function and will be removed in a future version. Please adapt your code to use either `displot` (a figure-level function with similar flexibility) or `histplot` (an axes-level function for histograms).\n",
      "  warnings.warn(msg, FutureWarning)\n"
     ]
    },
    {
     "data": {
      "image/png": "[encoded data removed]",
      "text/plain": [
       "<Figure size 1440x720 with 8 Axes>"
      ]
     },
     "metadata": {
      "needs_background": "light"
     },
     "output_type": "display_data"
    }
   ],
   "source": [
    "#visualize data with dist plot\n",
    "plt.figure(figsize=(20, 10))\n",
    "for i in range(0, len(nums)):\n",
    "    plt.subplot(2,4, i+1)\n",
    "    sns.distplot(df[nums[i]])\n",
    "    plt.tight_layout()\n",
    "    plt.xlabel(nums[i],fontsize=15)\n",
    "    plt.ylabel(nums[i],fontsize=15)"
   ]
  },
  {
   "cell_type": "markdown",
   "id": "06f40696-d1a9-447a-9203-92e91d7c8aaf",
   "metadata": {},
   "source": [
    "- Positively skewed: pdays, nr.emp, cci\n",
    "- Negatively skewed: age, duration campaign, previous, cpi"
   ]
  },
  {
   "cell_type": "code",
   "execution_count": 236,
   "id": "75b6acef-4667-483c-9413-a8aade56cf9d",
   "metadata": {},
   "outputs": [
    {
     "name": "stderr",
     "output_type": "stream",
     "text": [
      "C:\\Users\\User\\anaconda3\\lib\\site-packages\\seaborn\\_decorators.py:36: FutureWarning: Pass the following variable as a keyword arg: x. From version 0.12, the only valid positional argument will be `data`, and passing other arguments without an explicit keyword will result in an error or misinterpretation.\n",
      "  warnings.warn(\n",
      "C:\\Users\\User\\anaconda3\\lib\\site-packages\\seaborn\\_decorators.py:36: FutureWarning: Pass the following variable as a keyword arg: x. From version 0.12, the only valid positional argument will be `data`, and passing other arguments without an explicit keyword will result in an error or misinterpretation.\n",
      "  warnings.warn(\n",
      "C:\\Users\\User\\anaconda3\\lib\\site-packages\\seaborn\\_decorators.py:36: FutureWarning: Pass the following variable as a keyword arg: x. From version 0.12, the only valid positional argument will be `data`, and passing other arguments without an explicit keyword will result in an error or misinterpretation.\n",
      "  warnings.warn(\n",
      "C:\\Users\\User\\anaconda3\\lib\\site-packages\\seaborn\\_decorators.py:36: FutureWarning: Pass the following variable as a keyword arg: x. From version 0.12, the only valid positional argument will be `data`, and passing other arguments without an explicit keyword will result in an error or misinterpretation.\n",
      "  warnings.warn(\n",
      "C:\\Users\\User\\anaconda3\\lib\\site-packages\\seaborn\\_decorators.py:36: FutureWarning: Pass the following variable as a keyword arg: x. From version 0.12, the only valid positional argument will be `data`, and passing other arguments without an explicit keyword will result in an error or misinterpretation.\n",
      "  warnings.warn(\n",
      "C:\\Users\\User\\anaconda3\\lib\\site-packages\\seaborn\\_decorators.py:36: FutureWarning: Pass the following variable as a keyword arg: x. From version 0.12, the only valid positional argument will be `data`, and passing other arguments without an explicit keyword will result in an error or misinterpretation.\n",
      "  warnings.warn(\n",
      "C:\\Users\\User\\anaconda3\\lib\\site-packages\\seaborn\\_decorators.py:36: FutureWarning: Pass the following variable as a keyword arg: x. From version 0.12, the only valid positional argument will be `data`, and passing other arguments without an explicit keyword will result in an error or misinterpretation.\n",
      "  warnings.warn(\n"
     ]
    },
    {
     "data": {
      "image/png": "[encoded data removed]",
      "text/plain": [
       "<Figure size 2160x1440 with 7 Axes>"
      ]
     },
     "metadata": {
      "needs_background": "light"
     },
     "output_type": "display_data"
    }
   ],
   "source": [
    "#create cats columns\n",
    "cats=df.select_dtypes(include=['object'])\n",
    "cats=cats.drop(columns=['subs.td','month','education','job']).columns\n",
    "\n",
    "#create countplot\n",
    "plt.figure(figsize=(30, 20))\n",
    "for i in range(0, len(cats)):\n",
    "    plt.subplot(4, 3, i+1)\n",
    "    sns.countplot(df[cats[i]], orient='v')\n",
    "    plt.tight_layout()\n",
    "    plt.yticks(size=20)\n",
    "    plt.xticks(size=20)\n",
    "    plt.xlabel(cats[i],fontsize=20)\n",
    "    plt.ylabel(cats[i],fontsize=20)     "
   ]
  },
  {
   "cell_type": "markdown",
   "id": "248f8f56-a4e2-41f1-bc02-51b101af9948",
   "metadata": {},
   "source": [
    "- Most of the clients are married\n",
    "- Most of the clients does not have credit default\n",
    "- The total Clients that have and does not have housing loans is almost the same\n",
    "- Most of the clients does not have personal credit\n",
    "- More clients was contacted via cellular phones\n",
    "- All clients are contacted on weekdays, and almost every day have the same calls\n",
    "- Most of the outcome of the contact is nonexistent, and has very low succes"
   ]
  },
  {
   "cell_type": "code",
   "execution_count": 237,
   "id": "3b3a6f5e-47db-458c-a5ea-3e4da5585995",
   "metadata": {},
   "outputs": [
    {
     "name": "stderr",
     "output_type": "stream",
     "text": [
      "C:\\Users\\User\\anaconda3\\lib\\site-packages\\seaborn\\_decorators.py:36: FutureWarning: Pass the following variable as a keyword arg: x. From version 0.12, the only valid positional argument will be `data`, and passing other arguments without an explicit keyword will result in an error or misinterpretation.\n",
      "  warnings.warn(\n",
      "C:\\Users\\User\\anaconda3\\lib\\site-packages\\seaborn\\_decorators.py:36: FutureWarning: Pass the following variable as a keyword arg: x. From version 0.12, the only valid positional argument will be `data`, and passing other arguments without an explicit keyword will result in an error or misinterpretation.\n",
      "  warnings.warn(\n",
      "C:\\Users\\User\\anaconda3\\lib\\site-packages\\seaborn\\_decorators.py:36: FutureWarning: Pass the following variable as a keyword arg: x. From version 0.12, the only valid positional argument will be `data`, and passing other arguments without an explicit keyword will result in an error or misinterpretation.\n",
      "  warnings.warn(\n",
      "C:\\Users\\User\\anaconda3\\lib\\site-packages\\seaborn\\_decorators.py:36: FutureWarning: Pass the following variable as a keyword arg: x. From version 0.12, the only valid positional argument will be `data`, and passing other arguments without an explicit keyword will result in an error or misinterpretation.\n",
      "  warnings.warn(\n"
     ]
    },
    {
     "data": {
      "image/png": "[encoded data removed]",
      "text/plain": [
       "<Figure size 2160x1440 with 4 Axes>"
      ]
     },
     "metadata": {
      "needs_background": "light"
     },
     "output_type": "display_data"
    }
   ],
   "source": [
    "#create cats columns\n",
    "cats2=['subs.td','month','education','job']\n",
    "\n",
    "#create countplot\n",
    "plt.figure(figsize=(30, 20))\n",
    "for i in range(0, len(cats2)):\n",
    "    plt.subplot(4, 1, i+1)\n",
    "    sns.countplot(df[cats2[i]], orient='v')\n",
    "    plt.tight_layout()\n",
    "    plt.yticks(size=20)\n",
    "    plt.xticks(size=20)\n",
    "    plt.xlabel(cats2[i],fontsize=20)\n",
    "    plt.ylabel(cats2[i],fontsize=20)   "
   ]
  },
  {
   "cell_type": "markdown",
   "id": "61f82c2f-31f9-4ace-9c9c-5046de26eeea",
   "metadata": {},
   "source": [
    "- Most of the clients does not subscribe term deposit\n",
    "- Most of the clients education is University degree, high school, and basic 9 year.\n",
    "- Most of the clients jobs is admins, blue-collar, and technician.\n",
    "- Most of the clients was contacted on May, July, and August"
   ]
  },
  {
   "cell_type": "code",
   "execution_count": 238,
   "id": "789aa846-40d3-4840-856e-ee10adf46400",
   "metadata": {},
   "outputs": [
    {
     "name": "stderr",
     "output_type": "stream",
     "text": [
      "C:\\Users\\User\\anaconda3\\lib\\site-packages\\seaborn\\_decorators.py:36: FutureWarning: Pass the following variable as a keyword arg: x. From version 0.12, the only valid positional argument will be `data`, and passing other arguments without an explicit keyword will result in an error or misinterpretation.\n",
      "  warnings.warn(\n"
     ]
    },
    {
     "data": {
      "text/plain": [
       "<AxesSubplot:xlabel='subs.td', ylabel='count'>"
      ]
     },
     "execution_count": 238,
     "metadata": {},
     "output_type": "execute_result"
    },
    {
     "data": {
      "image/png": "[encoded data removed]",
      "text/plain": [
       "<Figure size 432x288 with 1 Axes>"
      ]
     },
     "metadata": {
      "needs_background": "light"
     },
     "output_type": "display_data"
    }
   ],
   "source": [
    "#view target data\n",
    "sns.countplot(df['subs.td'])"
   ]
  },
  {
   "cell_type": "markdown",
   "id": "1e7db3aa-4834-4065-9e87-226bb0e2e9ab",
   "metadata": {},
   "source": [
    "- The clients that does not subscribe to term deposit is 35000\n",
    "- While the clients tha does subscribe to term deposit is around 5k, or 1/7 of people that does not deposit"
   ]
  },
  {
   "cell_type": "code",
   "execution_count": 239,
   "id": "95c64c31-f1d6-49b5-968b-1402f3ff46ea",
   "metadata": {},
   "outputs": [
    {
     "data": {
      "text/html": [
       "<div>\n",
       "<style scoped>\n",
       "    .dataframe tbody tr th:only-of-type {\n",
       "        vertical-align: middle;\n",
       "    }\n",
       "\n",
       "    .dataframe tbody tr th {\n",
       "        vertical-align: top;\n",
       "    }\n",
       "\n",
       "    .dataframe thead th {\n",
       "        text-align: right;\n",
       "    }\n",
       "</style>\n",
       "<table border=\"1\" class=\"dataframe\">\n",
       "  <thead>\n",
       "    <tr style=\"text-align: right;\">\n",
       "      <th></th>\n",
       "      <th>marital</th>\n",
       "      <th>education</th>\n",
       "      <th>count</th>\n",
       "    </tr>\n",
       "  </thead>\n",
       "  <tbody>\n",
       "    <tr>\n",
       "      <th>0</th>\n",
       "      <td>married</td>\n",
       "      <td>university.degree</td>\n",
       "      <td>6391</td>\n",
       "    </tr>\n",
       "    <tr>\n",
       "      <th>1</th>\n",
       "      <td>married</td>\n",
       "      <td>high.school</td>\n",
       "      <td>5157</td>\n",
       "    </tr>\n",
       "    <tr>\n",
       "      <th>2</th>\n",
       "      <td>single</td>\n",
       "      <td>university.degree</td>\n",
       "      <td>4405</td>\n",
       "    </tr>\n",
       "    <tr>\n",
       "      <th>3</th>\n",
       "      <td>married</td>\n",
       "      <td>basic.9y</td>\n",
       "      <td>4156</td>\n",
       "    </tr>\n",
       "    <tr>\n",
       "      <th>4</th>\n",
       "      <td>married</td>\n",
       "      <td>basic.4y</td>\n",
       "      <td>3228</td>\n",
       "    </tr>\n",
       "  </tbody>\n",
       "</table>\n",
       "</div>"
      ],
      "text/plain": [
       "   marital          education  count\n",
       "0  married  university.degree   6391\n",
       "1  married        high.school   5157\n",
       "2   single  university.degree   4405\n",
       "3  married           basic.9y   4156\n",
       "4  married           basic.4y   3228"
      ]
     },
     "execution_count": 239,
     "metadata": {},
     "output_type": "execute_result"
    }
   ],
   "source": [
    "#create grouping for married and education\n",
    "dfm=df.groupby(['marital','education']).count()[['age']]\n",
    "dfm=dfm.sort_values('age',ascending=False).rename(columns={'age':'count'}).reset_index()\n",
    "dfm.head()"
   ]
  },
  {
   "cell_type": "markdown",
   "id": "55829ef2-eb7b-4035-b1db-f4cfa67a7003",
   "metadata": {},
   "source": [
    "- Top 3 clients based on Marital and Education is Married with University degree, Married with Highschool degree, and Single with University degree"
   ]
  },
  {
   "cell_type": "code",
   "execution_count": 240,
   "id": "fa882806-67bd-489e-9c8d-8b0ecfa68834",
   "metadata": {},
   "outputs": [
    {
     "data": {
      "text/html": [
       "<div>\n",
       "<style scoped>\n",
       "    .dataframe tbody tr th:only-of-type {\n",
       "        vertical-align: middle;\n",
       "    }\n",
       "\n",
       "    .dataframe tbody tr th {\n",
       "        vertical-align: top;\n",
       "    }\n",
       "\n",
       "    .dataframe thead th {\n",
       "        text-align: right;\n",
       "    }\n",
       "</style>\n",
       "<table border=\"1\" class=\"dataframe\">\n",
       "  <thead>\n",
       "    <tr style=\"text-align: right;\">\n",
       "      <th></th>\n",
       "      <th>education</th>\n",
       "      <th>has.credit</th>\n",
       "      <th>count</th>\n",
       "    </tr>\n",
       "  </thead>\n",
       "  <tbody>\n",
       "    <tr>\n",
       "      <th>0</th>\n",
       "      <td>university.degree</td>\n",
       "      <td>no</td>\n",
       "      <td>10714</td>\n",
       "    </tr>\n",
       "    <tr>\n",
       "      <th>1</th>\n",
       "      <td>high.school</td>\n",
       "      <td>no</td>\n",
       "      <td>7902</td>\n",
       "    </tr>\n",
       "    <tr>\n",
       "      <th>2</th>\n",
       "      <td>professional.course</td>\n",
       "      <td>no</td>\n",
       "      <td>4433</td>\n",
       "    </tr>\n",
       "    <tr>\n",
       "      <th>3</th>\n",
       "      <td>basic.9y</td>\n",
       "      <td>no</td>\n",
       "      <td>4418</td>\n",
       "    </tr>\n",
       "    <tr>\n",
       "      <th>4</th>\n",
       "      <td>basic.4y</td>\n",
       "      <td>no</td>\n",
       "      <td>2477</td>\n",
       "    </tr>\n",
       "  </tbody>\n",
       "</table>\n",
       "</div>"
      ],
      "text/plain": [
       "             education has.credit  count\n",
       "0    university.degree         no  10714\n",
       "1          high.school         no   7902\n",
       "2  professional.course         no   4433\n",
       "3             basic.9y         no   4418\n",
       "4             basic.4y         no   2477"
      ]
     },
     "execution_count": 240,
     "metadata": {},
     "output_type": "execute_result"
    }
   ],
   "source": [
    "#create grouping for married and education\n",
    "dfe=df.groupby(['education','has.credit']).count()[['age']]\n",
    "dfe=dfe.sort_values('age',ascending=False).rename(columns={'age':'count'}).reset_index()\n",
    "dfe.head()"
   ]
  },
  {
   "cell_type": "markdown",
   "id": "1419f4c3-a492-4f8b-9bc2-72fba00edda6",
   "metadata": {},
   "source": [
    "- Top 3 clients based on education and has credit default is University degree, high school, professional course, and all of them does not have credit default"
   ]
  },
  {
   "cell_type": "code",
   "execution_count": 241,
   "id": "ab99212f-ba74-428b-b609-617144a6d365",
   "metadata": {},
   "outputs": [
    {
     "data": {
      "text/html": [
       "<div>\n",
       "<style scoped>\n",
       "    .dataframe tbody tr th:only-of-type {\n",
       "        vertical-align: middle;\n",
       "    }\n",
       "\n",
       "    .dataframe tbody tr th {\n",
       "        vertical-align: top;\n",
       "    }\n",
       "\n",
       "    .dataframe thead th {\n",
       "        text-align: right;\n",
       "    }\n",
       "</style>\n",
       "<table border=\"1\" class=\"dataframe\">\n",
       "  <thead>\n",
       "    <tr style=\"text-align: right;\">\n",
       "      <th></th>\n",
       "      <th>job</th>\n",
       "      <th>housing</th>\n",
       "      <th>count</th>\n",
       "    </tr>\n",
       "  </thead>\n",
       "  <tbody>\n",
       "    <tr>\n",
       "      <th>0</th>\n",
       "      <td>admin.</td>\n",
       "      <td>yes</td>\n",
       "      <td>5558</td>\n",
       "    </tr>\n",
       "    <tr>\n",
       "      <th>1</th>\n",
       "      <td>blue-collar</td>\n",
       "      <td>yes</td>\n",
       "      <td>4710</td>\n",
       "    </tr>\n",
       "    <tr>\n",
       "      <th>2</th>\n",
       "      <td>admin.</td>\n",
       "      <td>no</td>\n",
       "      <td>4634</td>\n",
       "    </tr>\n",
       "    <tr>\n",
       "      <th>3</th>\n",
       "      <td>blue-collar</td>\n",
       "      <td>no</td>\n",
       "      <td>4303</td>\n",
       "    </tr>\n",
       "    <tr>\n",
       "      <th>4</th>\n",
       "      <td>technician</td>\n",
       "      <td>yes</td>\n",
       "      <td>3613</td>\n",
       "    </tr>\n",
       "  </tbody>\n",
       "</table>\n",
       "</div>"
      ],
      "text/plain": [
       "           job housing  count\n",
       "0       admin.     yes   5558\n",
       "1  blue-collar     yes   4710\n",
       "2       admin.      no   4634\n",
       "3  blue-collar      no   4303\n",
       "4   technician     yes   3613"
      ]
     },
     "execution_count": 241,
     "metadata": {},
     "output_type": "execute_result"
    }
   ],
   "source": [
    "#create grouping for married and education\n",
    "dfj=df.groupby(['job','housing']).count()[['age']]\n",
    "dfj=dfj.sort_values('age',ascending=False).rename(columns={'age':'count'}).reset_index()\n",
    "dfj.head()"
   ]
  },
  {
   "cell_type": "markdown",
   "id": "f70969c6-f919-419f-866c-12c589a72d77",
   "metadata": {},
   "source": [
    "- Top 3 categories based on job and housing is admin with housing loan, blue-collar with housing loan and admin without housing loan"
   ]
  },
  {
   "cell_type": "code",
   "execution_count": 242,
   "id": "e7ea9bf3-67af-498c-948f-20e84f84c5e7",
   "metadata": {},
   "outputs": [
    {
     "data": {
      "text/html": [
       "<div>\n",
       "<style scoped>\n",
       "    .dataframe tbody tr th:only-of-type {\n",
       "        vertical-align: middle;\n",
       "    }\n",
       "\n",
       "    .dataframe tbody tr th {\n",
       "        vertical-align: top;\n",
       "    }\n",
       "\n",
       "    .dataframe thead th {\n",
       "        text-align: right;\n",
       "    }\n",
       "</style>\n",
       "<table border=\"1\" class=\"dataframe\">\n",
       "  <thead>\n",
       "    <tr style=\"text-align: right;\">\n",
       "      <th></th>\n",
       "      <th>job</th>\n",
       "      <th>loan</th>\n",
       "      <th>count</th>\n",
       "    </tr>\n",
       "  </thead>\n",
       "  <tbody>\n",
       "    <tr>\n",
       "      <th>0</th>\n",
       "      <td>admin.</td>\n",
       "      <td>no</td>\n",
       "      <td>8482</td>\n",
       "    </tr>\n",
       "    <tr>\n",
       "      <th>1</th>\n",
       "      <td>blue-collar</td>\n",
       "      <td>no</td>\n",
       "      <td>7647</td>\n",
       "    </tr>\n",
       "    <tr>\n",
       "      <th>2</th>\n",
       "      <td>technician</td>\n",
       "      <td>no</td>\n",
       "      <td>5603</td>\n",
       "    </tr>\n",
       "    <tr>\n",
       "      <th>3</th>\n",
       "      <td>services</td>\n",
       "      <td>no</td>\n",
       "      <td>3265</td>\n",
       "    </tr>\n",
       "    <tr>\n",
       "      <th>4</th>\n",
       "      <td>management</td>\n",
       "      <td>no</td>\n",
       "      <td>2414</td>\n",
       "    </tr>\n",
       "  </tbody>\n",
       "</table>\n",
       "</div>"
      ],
      "text/plain": [
       "           job loan  count\n",
       "0       admin.   no   8482\n",
       "1  blue-collar   no   7647\n",
       "2   technician   no   5603\n",
       "3     services   no   3265\n",
       "4   management   no   2414"
      ]
     },
     "execution_count": 242,
     "metadata": {},
     "output_type": "execute_result"
    }
   ],
   "source": [
    "#create grouping for married and education\n",
    "dfj2=df.groupby(['job','loan']).count()[['age']]\n",
    "dfj2=dfj2.sort_values('age',ascending=False).rename(columns={'age':'count'}).reset_index()\n",
    "dfj2.head()"
   ]
  },
  {
   "cell_type": "markdown",
   "id": "f76e28f4-9899-4ee9-988b-f6c015158538",
   "metadata": {},
   "source": [
    "- Top 3 categories based on job and personal loan is admin, blue-collar, technician and all of them does not have personal loan."
   ]
  },
  {
   "cell_type": "code",
   "execution_count": 243,
   "id": "d62a4154-d95b-4e1c-bdeb-4f76fc8defad",
   "metadata": {},
   "outputs": [
    {
     "data": {
      "text/html": [
       "<div>\n",
       "<style scoped>\n",
       "    .dataframe tbody tr th:only-of-type {\n",
       "        vertical-align: middle;\n",
       "    }\n",
       "\n",
       "    .dataframe tbody tr th {\n",
       "        vertical-align: top;\n",
       "    }\n",
       "\n",
       "    .dataframe thead th {\n",
       "        text-align: right;\n",
       "    }\n",
       "</style>\n",
       "<table border=\"1\" class=\"dataframe\">\n",
       "  <thead>\n",
       "    <tr style=\"text-align: right;\">\n",
       "      <th></th>\n",
       "      <th>poutcome</th>\n",
       "      <th>campaign_total</th>\n",
       "    </tr>\n",
       "  </thead>\n",
       "  <tbody>\n",
       "    <tr>\n",
       "      <th>0</th>\n",
       "      <td>nonexistent</td>\n",
       "      <td>94726</td>\n",
       "    </tr>\n",
       "    <tr>\n",
       "      <th>1</th>\n",
       "      <td>failure</td>\n",
       "      <td>8526</td>\n",
       "    </tr>\n",
       "    <tr>\n",
       "      <th>2</th>\n",
       "      <td>success</td>\n",
       "      <td>2483</td>\n",
       "    </tr>\n",
       "  </tbody>\n",
       "</table>\n",
       "</div>"
      ],
      "text/plain": [
       "      poutcome  campaign_total\n",
       "0  nonexistent           94726\n",
       "1      failure            8526\n",
       "2      success            2483"
      ]
     },
     "execution_count": 243,
     "metadata": {},
     "output_type": "execute_result"
    }
   ],
   "source": [
    "#create grouping for married and education\n",
    "dfc=df.groupby(['poutcome']).sum()[['campaign']]\n",
    "dfc=dfc.sort_values('campaign',ascending=False).rename(columns={'campaign':'campaign_total'}).reset_index()\n",
    "dfc"
   ]
  },
  {
   "cell_type": "markdown",
   "id": "ca08e638-f71a-41ce-ba4a-e793cdb7829c",
   "metadata": {},
   "source": [
    "- most of the outcome of the calls is nonexistent\n",
    "- the succes calls of the clients is very low"
   ]
  },
  {
   "cell_type": "code",
   "execution_count": 244,
   "id": "5cb5b86d-e762-4c11-8269-f3b1cf15a206",
   "metadata": {},
   "outputs": [
    {
     "data": {
      "text/html": [
       "<div>\n",
       "<style scoped>\n",
       "    .dataframe tbody tr th:only-of-type {\n",
       "        vertical-align: middle;\n",
       "    }\n",
       "\n",
       "    .dataframe tbody tr th {\n",
       "        vertical-align: top;\n",
       "    }\n",
       "\n",
       "    .dataframe thead th {\n",
       "        text-align: right;\n",
       "    }\n",
       "</style>\n",
       "<table border=\"1\" class=\"dataframe\">\n",
       "  <thead>\n",
       "    <tr style=\"text-align: right;\">\n",
       "      <th></th>\n",
       "      <th>subs.td</th>\n",
       "      <th>campaign_total</th>\n",
       "    </tr>\n",
       "  </thead>\n",
       "  <tbody>\n",
       "    <tr>\n",
       "      <th>0</th>\n",
       "      <td>no</td>\n",
       "      <td>96216</td>\n",
       "    </tr>\n",
       "    <tr>\n",
       "      <th>1</th>\n",
       "      <td>yes</td>\n",
       "      <td>9519</td>\n",
       "    </tr>\n",
       "  </tbody>\n",
       "</table>\n",
       "</div>"
      ],
      "text/plain": [
       "  subs.td  campaign_total\n",
       "0      no           96216\n",
       "1     yes            9519"
      ]
     },
     "execution_count": 244,
     "metadata": {},
     "output_type": "execute_result"
    }
   ],
   "source": [
    "#create grouping for married and education\n",
    "dfstd=df.groupby(['subs.td']).sum()[['campaign']]\n",
    "dfstd=dfstd.sort_values('campaign',ascending=False).rename(columns={'campaign':'campaign_total'}).reset_index()\n",
    "dfstd"
   ]
  },
  {
   "cell_type": "markdown",
   "id": "079a975e-effe-4578-ba77-5fa0219ac88c",
   "metadata": {},
   "source": [
    "- The clients who was not subscribed is much bigger than thoose who subscribed"
   ]
  },
  {
   "cell_type": "code",
   "execution_count": 245,
   "id": "8134c521-b319-4335-b6c0-6e4d3acae781",
   "metadata": {},
   "outputs": [
    {
     "data": {
      "text/html": [
       "<div>\n",
       "<style scoped>\n",
       "    .dataframe tbody tr th:only-of-type {\n",
       "        vertical-align: middle;\n",
       "    }\n",
       "\n",
       "    .dataframe tbody tr th {\n",
       "        vertical-align: top;\n",
       "    }\n",
       "\n",
       "    .dataframe thead th {\n",
       "        text-align: right;\n",
       "    }\n",
       "</style>\n",
       "<table border=\"1\" class=\"dataframe\">\n",
       "  <thead>\n",
       "    <tr style=\"text-align: right;\">\n",
       "      <th></th>\n",
       "      <th>contact</th>\n",
       "      <th>poutcome</th>\n",
       "      <th>campaign_total</th>\n",
       "    </tr>\n",
       "  </thead>\n",
       "  <tbody>\n",
       "    <tr>\n",
       "      <th>0</th>\n",
       "      <td>cellular</td>\n",
       "      <td>nonexistent</td>\n",
       "      <td>20913</td>\n",
       "    </tr>\n",
       "    <tr>\n",
       "      <th>1</th>\n",
       "      <td>telephone</td>\n",
       "      <td>nonexistent</td>\n",
       "      <td>14638</td>\n",
       "    </tr>\n",
       "    <tr>\n",
       "      <th>2</th>\n",
       "      <td>cellular</td>\n",
       "      <td>failure</td>\n",
       "      <td>3952</td>\n",
       "    </tr>\n",
       "    <tr>\n",
       "      <th>3</th>\n",
       "      <td>cellular</td>\n",
       "      <td>success</td>\n",
       "      <td>1270</td>\n",
       "    </tr>\n",
       "    <tr>\n",
       "      <th>4</th>\n",
       "      <td>telephone</td>\n",
       "      <td>failure</td>\n",
       "      <td>300</td>\n",
       "    </tr>\n",
       "  </tbody>\n",
       "</table>\n",
       "</div>"
      ],
      "text/plain": [
       "     contact     poutcome  campaign_total\n",
       "0   cellular  nonexistent           20913\n",
       "1  telephone  nonexistent           14638\n",
       "2   cellular      failure            3952\n",
       "3   cellular      success            1270\n",
       "4  telephone      failure             300"
      ]
     },
     "execution_count": 245,
     "metadata": {},
     "output_type": "execute_result"
    }
   ],
   "source": [
    "#create grouping for married and education\n",
    "dfcp=df.groupby(['contact','poutcome']).count()[['age']]\n",
    "dfcp=dfcp.sort_values('age',ascending=False).rename(columns={'age':'campaign_total'}).reset_index()\n",
    "dfcp.head()"
   ]
  },
  {
   "cell_type": "markdown",
   "id": "23a54b3a-a0c0-4806-9ff5-8a246d3285e7",
   "metadata": {},
   "source": [
    "- The top 3 categories based on contact line and outcome is mostly nonexistent/failure, this is bad."
   ]
  },
  {
   "cell_type": "code",
   "execution_count": 246,
   "id": "abb0b6fb-6b80-4749-b97c-2a9390ec48e7",
   "metadata": {},
   "outputs": [
    {
     "data": {
      "text/html": [
       "<div>\n",
       "<style scoped>\n",
       "    .dataframe tbody tr th:only-of-type {\n",
       "        vertical-align: middle;\n",
       "    }\n",
       "\n",
       "    .dataframe tbody tr th {\n",
       "        vertical-align: top;\n",
       "    }\n",
       "\n",
       "    .dataframe thead th {\n",
       "        text-align: right;\n",
       "    }\n",
       "</style>\n",
       "<table border=\"1\" class=\"dataframe\">\n",
       "  <thead>\n",
       "    <tr style=\"text-align: right;\">\n",
       "      <th></th>\n",
       "      <th>duration</th>\n",
       "      <th>minutes</th>\n",
       "    </tr>\n",
       "  </thead>\n",
       "  <tbody>\n",
       "    <tr>\n",
       "      <th>0</th>\n",
       "      <td>(0, 5]</td>\n",
       "      <td>29970</td>\n",
       "    </tr>\n",
       "    <tr>\n",
       "      <th>1</th>\n",
       "      <td>(5, 10]</td>\n",
       "      <td>7738</td>\n",
       "    </tr>\n",
       "    <tr>\n",
       "      <th>2</th>\n",
       "      <td>(10, 15]</td>\n",
       "      <td>2183</td>\n",
       "    </tr>\n",
       "    <tr>\n",
       "      <th>3</th>\n",
       "      <td>(15, 20]</td>\n",
       "      <td>768</td>\n",
       "    </tr>\n",
       "    <tr>\n",
       "      <th>4</th>\n",
       "      <td>(20, 25]</td>\n",
       "      <td>307</td>\n",
       "    </tr>\n",
       "  </tbody>\n",
       "</table>\n",
       "</div>"
      ],
      "text/plain": [
       "   duration  minutes\n",
       "0    (0, 5]    29970\n",
       "1   (5, 10]     7738\n",
       "2  (10, 15]     2183\n",
       "3  (15, 20]      768\n",
       "4  (20, 25]      307"
      ]
     },
     "execution_count": 246,
     "metadata": {},
     "output_type": "execute_result"
    }
   ],
   "source": [
    "#create group by duration, but dividided by minutes\n",
    "dfd=df.groupby(pd.cut(df[\"duration\"]/60, np.arange(0, 100, 5))).count()[['age']]\n",
    "dfd=dfd.rename(columns={'age':'minutes'}).reset_index()\n",
    "dfd.head()"
   ]
  },
  {
   "cell_type": "markdown",
   "id": "9011f50d-fb20-4666-a20a-9ab7bf8b9c53",
   "metadata": {},
   "source": [
    "- most of the call lasted between 0 to 5 minutes\n",
    "- followed by 5 - 10 minutes and 10 - 15 minutes"
   ]
  },
  {
   "cell_type": "code",
   "execution_count": 247,
   "id": "79c6a333-98ef-4eb2-a6ae-c68a792a830f",
   "metadata": {},
   "outputs": [
    {
     "data": {
      "text/html": [
       "<div>\n",
       "<style scoped>\n",
       "    .dataframe tbody tr th:only-of-type {\n",
       "        vertical-align: middle;\n",
       "    }\n",
       "\n",
       "    .dataframe tbody tr th {\n",
       "        vertical-align: top;\n",
       "    }\n",
       "\n",
       "    .dataframe thead th {\n",
       "        text-align: right;\n",
       "    }\n",
       "</style>\n",
       "<table border=\"1\" class=\"dataframe\">\n",
       "  <thead>\n",
       "    <tr style=\"text-align: right;\">\n",
       "      <th></th>\n",
       "      <th>cpi</th>\n",
       "      <th>count</th>\n",
       "    </tr>\n",
       "  </thead>\n",
       "  <tbody>\n",
       "    <tr>\n",
       "      <th>0</th>\n",
       "      <td>(90, 92]</td>\n",
       "      <td>0</td>\n",
       "    </tr>\n",
       "    <tr>\n",
       "      <th>1</th>\n",
       "      <td>(92, 94]</td>\n",
       "      <td>35394</td>\n",
       "    </tr>\n",
       "    <tr>\n",
       "      <th>2</th>\n",
       "      <td>(94, 96]</td>\n",
       "      <td>5782</td>\n",
       "    </tr>\n",
       "    <tr>\n",
       "      <th>3</th>\n",
       "      <td>(96, 98]</td>\n",
       "      <td>0</td>\n",
       "    </tr>\n",
       "  </tbody>\n",
       "</table>\n",
       "</div>"
      ],
      "text/plain": [
       "        cpi  count\n",
       "0  (90, 92]      0\n",
       "1  (92, 94]  35394\n",
       "2  (94, 96]   5782\n",
       "3  (96, 98]      0"
      ]
     },
     "execution_count": 247,
     "metadata": {},
     "output_type": "execute_result"
    }
   ],
   "source": [
    "#group by cpi\n",
    "dfcpi=df.groupby(pd.cut(df[\"cpi\"], np.arange(90, 100, 2))).count()[['age']]\n",
    "dfcpi=dfcpi.rename(columns={'age':'count'}).reset_index()\n",
    "dfcpi"
   ]
  },
  {
   "cell_type": "markdown",
   "id": "f58b39ed-f7ab-4cc1-9481-9b9064b0120a",
   "metadata": {},
   "source": [
    "- Most of the CPI of the clients are 92- 94, and followed by 94-96."
   ]
  },
  {
   "cell_type": "code",
   "execution_count": 248,
   "id": "474b418f-ade2-44ac-97d1-e1d1753e6c76",
   "metadata": {},
   "outputs": [
    {
     "data": {
      "text/html": [
       "<div>\n",
       "<style scoped>\n",
       "    .dataframe tbody tr th:only-of-type {\n",
       "        vertical-align: middle;\n",
       "    }\n",
       "\n",
       "    .dataframe tbody tr th {\n",
       "        vertical-align: top;\n",
       "    }\n",
       "\n",
       "    .dataframe thead th {\n",
       "        text-align: right;\n",
       "    }\n",
       "</style>\n",
       "<table border=\"1\" class=\"dataframe\">\n",
       "  <thead>\n",
       "    <tr style=\"text-align: right;\">\n",
       "      <th></th>\n",
       "      <th>cci</th>\n",
       "      <th>count</th>\n",
       "    </tr>\n",
       "  </thead>\n",
       "  <tbody>\n",
       "    <tr>\n",
       "      <th>0</th>\n",
       "      <td>(-50, -45]</td>\n",
       "      <td>8464</td>\n",
       "    </tr>\n",
       "    <tr>\n",
       "      <th>1</th>\n",
       "      <td>(-45, -40]</td>\n",
       "      <td>15975</td>\n",
       "    </tr>\n",
       "    <tr>\n",
       "      <th>2</th>\n",
       "      <td>(-40, -35]</td>\n",
       "      <td>13700</td>\n",
       "    </tr>\n",
       "    <tr>\n",
       "      <th>3</th>\n",
       "      <td>(-35, -30]</td>\n",
       "      <td>1914</td>\n",
       "    </tr>\n",
       "  </tbody>\n",
       "</table>\n",
       "</div>"
      ],
      "text/plain": [
       "          cci  count\n",
       "0  (-50, -45]   8464\n",
       "1  (-45, -40]  15975\n",
       "2  (-40, -35]  13700\n",
       "3  (-35, -30]   1914"
      ]
     },
     "execution_count": 248,
     "metadata": {},
     "output_type": "execute_result"
    }
   ],
   "source": [
    "#group by cci\n",
    "dfcci=df.groupby(pd.cut(df[\"cci\"], np.arange(-50, -25, 5))).count()[['age']]\n",
    "dfcci=dfcci.rename(columns={'age':'count'}).reset_index()\n",
    "dfcci"
   ]
  },
  {
   "cell_type": "markdown",
   "id": "50d66d58-0ea1-432b-89a1-bf960d0cc561",
   "metadata": {},
   "source": [
    "- Most of the cci of the clients are between -45 to -40, and followed by -40 to -35"
   ]
  },
  {
   "cell_type": "code",
   "execution_count": 249,
   "id": "6c8e8eed-4d4e-476d-ac95-9bb8f7bda4a4",
   "metadata": {},
   "outputs": [
    {
     "data": {
      "text/html": [
       "<div>\n",
       "<style scoped>\n",
       "    .dataframe tbody tr th:only-of-type {\n",
       "        vertical-align: middle;\n",
       "    }\n",
       "\n",
       "    .dataframe tbody tr th {\n",
       "        vertical-align: top;\n",
       "    }\n",
       "\n",
       "    .dataframe thead th {\n",
       "        text-align: right;\n",
       "    }\n",
       "</style>\n",
       "<table border=\"1\" class=\"dataframe\">\n",
       "  <thead>\n",
       "    <tr style=\"text-align: right;\">\n",
       "      <th></th>\n",
       "      <th>nr.emp</th>\n",
       "      <th>count</th>\n",
       "    </tr>\n",
       "  </thead>\n",
       "  <tbody>\n",
       "    <tr>\n",
       "      <th>0</th>\n",
       "      <td>(4800, 4900]</td>\n",
       "      <td>0</td>\n",
       "    </tr>\n",
       "    <tr>\n",
       "      <th>1</th>\n",
       "      <td>(4900, 5000]</td>\n",
       "      <td>1408</td>\n",
       "    </tr>\n",
       "    <tr>\n",
       "      <th>2</th>\n",
       "      <td>(5000, 5100]</td>\n",
       "      <td>12086</td>\n",
       "    </tr>\n",
       "    <tr>\n",
       "      <th>3</th>\n",
       "      <td>(5100, 5200]</td>\n",
       "      <td>11454</td>\n",
       "    </tr>\n",
       "  </tbody>\n",
       "</table>\n",
       "</div>"
      ],
      "text/plain": [
       "         nr.emp  count\n",
       "0  (4800, 4900]      0\n",
       "1  (4900, 5000]   1408\n",
       "2  (5000, 5100]  12086\n",
       "3  (5100, 5200]  11454"
      ]
     },
     "execution_count": 249,
     "metadata": {},
     "output_type": "execute_result"
    }
   ],
   "source": [
    "#group by number of employess\n",
    "dfnre=df.groupby(pd.cut(df[\"nr.emp\"], np.arange(4800, 5300, 100))).count()[['age']]\n",
    "dfnre=dfnre.rename(columns={'age':'count'}).reset_index()\n",
    "dfnre"
   ]
  },
  {
   "cell_type": "markdown",
   "id": "0f439e1b-8485-47fe-afa0-f672c2d52753",
   "metadata": {},
   "source": [
    "- Most of the client employes is between 5000- 5100 employees and 5100 to 5200 employees"
   ]
  },
  {
   "cell_type": "code",
   "execution_count": 250,
   "id": "0395bbe9-abef-47e7-8f48-58aa7a647917",
   "metadata": {},
   "outputs": [
    {
     "data": {
      "text/html": [
       "<div>\n",
       "<style scoped>\n",
       "    .dataframe tbody tr th:only-of-type {\n",
       "        vertical-align: middle;\n",
       "    }\n",
       "\n",
       "    .dataframe tbody tr th {\n",
       "        vertical-align: top;\n",
       "    }\n",
       "\n",
       "    .dataframe thead th {\n",
       "        text-align: right;\n",
       "    }\n",
       "</style>\n",
       "<table border=\"1\" class=\"dataframe\">\n",
       "  <thead>\n",
       "    <tr style=\"text-align: right;\">\n",
       "      <th></th>\n",
       "      <th>age</th>\n",
       "      <th>count</th>\n",
       "    </tr>\n",
       "  </thead>\n",
       "  <tbody>\n",
       "    <tr>\n",
       "      <th>0</th>\n",
       "      <td>(10, 20]</td>\n",
       "      <td>140</td>\n",
       "    </tr>\n",
       "    <tr>\n",
       "      <th>1</th>\n",
       "      <td>(20, 30]</td>\n",
       "      <td>7241</td>\n",
       "    </tr>\n",
       "    <tr>\n",
       "      <th>2</th>\n",
       "      <td>(30, 40]</td>\n",
       "      <td>16380</td>\n",
       "    </tr>\n",
       "    <tr>\n",
       "      <th>3</th>\n",
       "      <td>(40, 50]</td>\n",
       "      <td>10237</td>\n",
       "    </tr>\n",
       "    <tr>\n",
       "      <th>4</th>\n",
       "      <td>(50, 60]</td>\n",
       "      <td>6269</td>\n",
       "    </tr>\n",
       "    <tr>\n",
       "      <th>5</th>\n",
       "      <td>(60, 70]</td>\n",
       "      <td>488</td>\n",
       "    </tr>\n",
       "    <tr>\n",
       "      <th>6</th>\n",
       "      <td>(70, 80]</td>\n",
       "      <td>302</td>\n",
       "    </tr>\n",
       "    <tr>\n",
       "      <th>7</th>\n",
       "      <td>(80, 90]</td>\n",
       "      <td>109</td>\n",
       "    </tr>\n",
       "    <tr>\n",
       "      <th>8</th>\n",
       "      <td>(90, 100]</td>\n",
       "      <td>10</td>\n",
       "    </tr>\n",
       "  </tbody>\n",
       "</table>\n",
       "</div>"
      ],
      "text/plain": [
       "         age  count\n",
       "0   (10, 20]    140\n",
       "1   (20, 30]   7241\n",
       "2   (30, 40]  16380\n",
       "3   (40, 50]  10237\n",
       "4   (50, 60]   6269\n",
       "5   (60, 70]    488\n",
       "6   (70, 80]    302\n",
       "7   (80, 90]    109\n",
       "8  (90, 100]     10"
      ]
     },
     "execution_count": 250,
     "metadata": {},
     "output_type": "execute_result"
    }
   ],
   "source": [
    "dfage=df.groupby(pd.cut(df[\"age\"], np.arange(10, 110, 10))).count()[['age']]\n",
    "dfage=dfage.rename(columns={'age':'count'}).reset_index()\n",
    "dfage"
   ]
  },
  {
   "cell_type": "markdown",
   "id": "b382720d-bef3-4b4f-bdbf-d44ca3932882",
   "metadata": {},
   "source": [
    "- The client's age is mostly around 30-40, 40,50, and 20-30"
   ]
  },
  {
   "cell_type": "code",
   "execution_count": 251,
   "id": "ef74cac1-309d-4de0-a533-e7555165b899",
   "metadata": {},
   "outputs": [
    {
     "data": {
      "text/html": [
       "<div>\n",
       "<style scoped>\n",
       "    .dataframe tbody tr th:only-of-type {\n",
       "        vertical-align: middle;\n",
       "    }\n",
       "\n",
       "    .dataframe tbody tr th {\n",
       "        vertical-align: top;\n",
       "    }\n",
       "\n",
       "    .dataframe thead th {\n",
       "        text-align: right;\n",
       "    }\n",
       "</style>\n",
       "<table border=\"1\" class=\"dataframe\">\n",
       "  <thead>\n",
       "    <tr style=\"text-align: right;\">\n",
       "      <th></th>\n",
       "      <th>month</th>\n",
       "      <th>subs.td</th>\n",
       "      <th>campaign_total</th>\n",
       "    </tr>\n",
       "  </thead>\n",
       "  <tbody>\n",
       "    <tr>\n",
       "      <th>12</th>\n",
       "      <td>may</td>\n",
       "      <td>no</td>\n",
       "      <td>31703</td>\n",
       "    </tr>\n",
       "    <tr>\n",
       "      <th>6</th>\n",
       "      <td>jul</td>\n",
       "      <td>no</td>\n",
       "      <td>20976</td>\n",
       "    </tr>\n",
       "    <tr>\n",
       "      <th>9</th>\n",
       "      <td>jun</td>\n",
       "      <td>no</td>\n",
       "      <td>15103</td>\n",
       "    </tr>\n",
       "    <tr>\n",
       "      <th>2</th>\n",
       "      <td>aug</td>\n",
       "      <td>no</td>\n",
       "      <td>15010</td>\n",
       "    </tr>\n",
       "    <tr>\n",
       "      <th>14</th>\n",
       "      <td>nov</td>\n",
       "      <td>no</td>\n",
       "      <td>7144</td>\n",
       "    </tr>\n",
       "  </tbody>\n",
       "</table>\n",
       "</div>"
      ],
      "text/plain": [
       "   month subs.td  campaign_total\n",
       "12   may      no           31703\n",
       "6    jul      no           20976\n",
       "9    jun      no           15103\n",
       "2    aug      no           15010\n",
       "14   nov      no            7144"
      ]
     },
     "execution_count": 251,
     "metadata": {},
     "output_type": "execute_result"
    }
   ],
   "source": [
    "#create grouping for married and education\n",
    "dfmonth=df.groupby(['month','subs.td']).sum()[['campaign']]\n",
    "dfmonth=dfmonth.sort_values('month',ascending=True).rename(columns={'campaign':'campaign_total'}).reset_index()\n",
    "dfmonth.sort_values(by='campaign_total',ascending=False).head()"
   ]
  },
  {
   "cell_type": "markdown",
   "id": "0612c5d4-58ad-4e31-b8d2-1e11efec062a",
   "metadata": {},
   "source": [
    "- Top 3 most of the clients contacted are on month may, july and june, while all of them does not subs to term deposit."
   ]
  },
  {
   "cell_type": "code",
   "execution_count": 252,
   "id": "7f28cae3-2642-47cd-b6c0-1f172771177b",
   "metadata": {},
   "outputs": [
    {
     "data": {
      "text/html": [
       "<div>\n",
       "<style scoped>\n",
       "    .dataframe tbody tr th:only-of-type {\n",
       "        vertical-align: middle;\n",
       "    }\n",
       "\n",
       "    .dataframe tbody tr th {\n",
       "        vertical-align: top;\n",
       "    }\n",
       "\n",
       "    .dataframe thead th {\n",
       "        text-align: right;\n",
       "    }\n",
       "</style>\n",
       "<table border=\"1\" class=\"dataframe\">\n",
       "  <thead>\n",
       "    <tr style=\"text-align: right;\">\n",
       "      <th></th>\n",
       "      <th>contact</th>\n",
       "      <th>count</th>\n",
       "    </tr>\n",
       "  </thead>\n",
       "  <tbody>\n",
       "    <tr>\n",
       "      <th>0</th>\n",
       "      <td>cellular</td>\n",
       "      <td>26135</td>\n",
       "    </tr>\n",
       "    <tr>\n",
       "      <th>1</th>\n",
       "      <td>telephone</td>\n",
       "      <td>15041</td>\n",
       "    </tr>\n",
       "  </tbody>\n",
       "</table>\n",
       "</div>"
      ],
      "text/plain": [
       "     contact  count\n",
       "0   cellular  26135\n",
       "1  telephone  15041"
      ]
     },
     "execution_count": 252,
     "metadata": {},
     "output_type": "execute_result"
    }
   ],
   "source": [
    "#create grouping by contact\n",
    "dfct=df.groupby(['contact']).count()[['age']]\n",
    "dfct=dfct.rename(columns={'age':'count'}).reset_index()\n",
    "dfct"
   ]
  },
  {
   "cell_type": "markdown",
   "id": "f83ab6f1-23ce-4bc5-824a-c23230e59b62",
   "metadata": {},
   "source": [
    "- Most of the calls is from cellular phone"
   ]
  },
  {
   "cell_type": "code",
   "execution_count": 253,
   "id": "23ad6ef9-beda-460b-9670-6119d8f13dec",
   "metadata": {},
   "outputs": [],
   "source": [
    "#create new category by age\n",
    "conditions=[\n",
    "    (df['age']>=10) & (df['age'] <= 20),\n",
    "    (df['age']>20) & (df['age'] <=30),\n",
    "    (df['age']>30) & (df['age']<=40),\n",
    "    (df['age']>40) & (df['age']<=50),\n",
    "    (df['age']>50) & (df['age']<=60),\n",
    "    (df['age']>60) & (df['age']<=70),\n",
    "    (df['age']>70) & (df['age']<=80),\n",
    "    (df['age']>80) & (df['age']<=90),\n",
    "    (df['age']>90) & (df['age']<=100)\n",
    "]\n",
    "\n",
    "outputs = [\n",
    "    '10, 20',\n",
    "    '21, 30', \n",
    "    '31, 40', \n",
    "    '41, 50',\n",
    "    '51, 60', \n",
    "    '61, 70', \n",
    "    '71, 80', \n",
    "    '81, 90',\n",
    "    '91,100'\n",
    "]\n",
    "\n",
    "res = np.select(conditions, outputs, 'Other')"
   ]
  },
  {
   "cell_type": "code",
   "execution_count": 254,
   "id": "18ddb160-2601-4ce8-b07e-107fa7814ca2",
   "metadata": {},
   "outputs": [],
   "source": [
    "#create new group by category\n",
    "dftf=df.copy()\n",
    "dftf['age_class']=res"
   ]
  },
  {
   "cell_type": "code",
   "execution_count": 255,
   "id": "e5ba2b46-cc3a-4833-85ec-bfd1d3be55a8",
   "metadata": {},
   "outputs": [
    {
     "data": {
      "text/html": [
       "<div>\n",
       "<style scoped>\n",
       "    .dataframe tbody tr th:only-of-type {\n",
       "        vertical-align: middle;\n",
       "    }\n",
       "\n",
       "    .dataframe tbody tr th {\n",
       "        vertical-align: top;\n",
       "    }\n",
       "\n",
       "    .dataframe thead th {\n",
       "        text-align: right;\n",
       "    }\n",
       "</style>\n",
       "<table border=\"1\" class=\"dataframe\">\n",
       "  <thead>\n",
       "    <tr style=\"text-align: right;\">\n",
       "      <th></th>\n",
       "      <th>age_class</th>\n",
       "      <th>subs.td</th>\n",
       "      <th>count</th>\n",
       "    </tr>\n",
       "  </thead>\n",
       "  <tbody>\n",
       "    <tr>\n",
       "      <th>5</th>\n",
       "      <td>31, 40</td>\n",
       "      <td>yes</td>\n",
       "      <td>1597</td>\n",
       "    </tr>\n",
       "    <tr>\n",
       "      <th>3</th>\n",
       "      <td>21, 30</td>\n",
       "      <td>yes</td>\n",
       "      <td>1067</td>\n",
       "    </tr>\n",
       "    <tr>\n",
       "      <th>7</th>\n",
       "      <td>41, 50</td>\n",
       "      <td>yes</td>\n",
       "      <td>836</td>\n",
       "    </tr>\n",
       "    <tr>\n",
       "      <th>9</th>\n",
       "      <td>51, 60</td>\n",
       "      <td>yes</td>\n",
       "      <td>668</td>\n",
       "    </tr>\n",
       "    <tr>\n",
       "      <th>11</th>\n",
       "      <td>61, 70</td>\n",
       "      <td>yes</td>\n",
       "      <td>212</td>\n",
       "    </tr>\n",
       "    <tr>\n",
       "      <th>13</th>\n",
       "      <td>71, 80</td>\n",
       "      <td>yes</td>\n",
       "      <td>143</td>\n",
       "    </tr>\n",
       "    <tr>\n",
       "      <th>1</th>\n",
       "      <td>10, 20</td>\n",
       "      <td>yes</td>\n",
       "      <td>57</td>\n",
       "    </tr>\n",
       "    <tr>\n",
       "      <th>15</th>\n",
       "      <td>81, 90</td>\n",
       "      <td>yes</td>\n",
       "      <td>54</td>\n",
       "    </tr>\n",
       "    <tr>\n",
       "      <th>17</th>\n",
       "      <td>91,100</td>\n",
       "      <td>yes</td>\n",
       "      <td>5</td>\n",
       "    </tr>\n",
       "    <tr>\n",
       "      <th>4</th>\n",
       "      <td>31, 40</td>\n",
       "      <td>no</td>\n",
       "      <td>14783</td>\n",
       "    </tr>\n",
       "    <tr>\n",
       "      <th>6</th>\n",
       "      <td>41, 50</td>\n",
       "      <td>no</td>\n",
       "      <td>9401</td>\n",
       "    </tr>\n",
       "    <tr>\n",
       "      <th>2</th>\n",
       "      <td>21, 30</td>\n",
       "      <td>no</td>\n",
       "      <td>6174</td>\n",
       "    </tr>\n",
       "    <tr>\n",
       "      <th>8</th>\n",
       "      <td>51, 60</td>\n",
       "      <td>no</td>\n",
       "      <td>5601</td>\n",
       "    </tr>\n",
       "    <tr>\n",
       "      <th>10</th>\n",
       "      <td>61, 70</td>\n",
       "      <td>no</td>\n",
       "      <td>276</td>\n",
       "    </tr>\n",
       "    <tr>\n",
       "      <th>12</th>\n",
       "      <td>71, 80</td>\n",
       "      <td>no</td>\n",
       "      <td>159</td>\n",
       "    </tr>\n",
       "    <tr>\n",
       "      <th>0</th>\n",
       "      <td>10, 20</td>\n",
       "      <td>no</td>\n",
       "      <td>83</td>\n",
       "    </tr>\n",
       "    <tr>\n",
       "      <th>14</th>\n",
       "      <td>81, 90</td>\n",
       "      <td>no</td>\n",
       "      <td>55</td>\n",
       "    </tr>\n",
       "    <tr>\n",
       "      <th>16</th>\n",
       "      <td>91,100</td>\n",
       "      <td>no</td>\n",
       "      <td>5</td>\n",
       "    </tr>\n",
       "  </tbody>\n",
       "</table>\n",
       "</div>"
      ],
      "text/plain": [
       "   age_class subs.td  count\n",
       "5     31, 40     yes   1597\n",
       "3     21, 30     yes   1067\n",
       "7     41, 50     yes    836\n",
       "9     51, 60     yes    668\n",
       "11    61, 70     yes    212\n",
       "13    71, 80     yes    143\n",
       "1     10, 20     yes     57\n",
       "15    81, 90     yes     54\n",
       "17    91,100     yes      5\n",
       "4     31, 40      no  14783\n",
       "6     41, 50      no   9401\n",
       "2     21, 30      no   6174\n",
       "8     51, 60      no   5601\n",
       "10    61, 70      no    276\n",
       "12    71, 80      no    159\n",
       "0     10, 20      no     83\n",
       "14    81, 90      no     55\n",
       "16    91,100      no      5"
      ]
     },
     "execution_count": 255,
     "metadata": {},
     "output_type": "execute_result"
    }
   ],
   "source": [
    "#create new group by category\n",
    "dfagec=dftf.groupby(['age_class','subs.td']).count()[['age']]\n",
    "dfagec=dfagec.rename(columns={'age':'count'}).reset_index()\n",
    "dfagec.sort_values(by=['subs.td','count'],ascending=False)"
   ]
  },
  {
   "cell_type": "markdown",
   "id": "4d1f0792-3eec-4565-a42e-fbbf35035fab",
   "metadata": {},
   "source": [
    "- Top 3 term deposit subscriber are clients that have an age around the age 31 - 40, 21 - 30, and 41 - 50\n",
    "- Bottom 3 term deposit subscriber are clients that have an age around 10 - 20, 81 - 90, and 91 -100\n",
    "- Top 3 term deposit non subscriber are clients that have an age around the age 31 - 40, 41 - 50, and 21 - 30\n",
    "- Bottom 3 term deposit non subscriber are clients that have an age around 10 - 20, 81 - 90, and 91 -100"
   ]
  },
  {
   "cell_type": "markdown",
   "id": "ba19dcaa-7c92-46e5-81c8-8084d0caca62",
   "metadata": {},
   "source": [
    "## Data Exploration Summary:"
   ]
  },
  {
   "cell_type": "markdown",
   "id": "39eb1ad6-a44b-4ad4-ab98-1c7f5957805f",
   "metadata": {},
   "source": [
    "- Almost all numerical features have an outliers\n",
    "- Some of the outliers are positive or negatively skewed, apa benar?\n",
    "- Almost all of our client have no default credit\n",
    "- Almost all of our clients are married and single\n",
    "- Most of our clients does not have personal loan\n",
    "- But on housing loan, the number of clients that have housing loan is bigger than thoose who not, even though the difference is not big\n",
    "- Most of the contacts was done through client's cellular phone\n",
    "- The outcome of the calls was dominated by nonexistent outcome\n",
    "- Most of the calls was done on May, July, August and June.\n",
    "- Most of our clients education are University degree, High School, and basic 9 year.\n",
    "- Most of our client jobs are admins, blue-collars, and Technicians.\n",
    "- Most of our clinets does not subscribed to Term Deposit."
   ]
  },
  {
   "cell_type": "markdown",
   "id": "9b01d2db-eb05-4414-803d-fc0c1fa4b1cf",
   "metadata": {},
   "source": [
    "# 6. Data Preprocessing"
   ]
  },
  {
   "cell_type": "markdown",
   "id": "cffceacc-8edf-47d7-b106-92dcc7299ac3",
   "metadata": {
    "tags": []
   },
   "source": [
    "## Label Encoding Target Data"
   ]
  },
  {
   "cell_type": "code",
   "execution_count": 256,
   "id": "ba831270-ef10-469b-ae8d-b4c2d9d46e43",
   "metadata": {},
   "outputs": [],
   "source": [
    "#label encoding target data\n",
    "dfc=df.copy()\n",
    "\n",
    "lb_make = LabelEncoder()\n",
    "dfc[\"subs.td\"] = lb_make.fit_transform(dfc[\"subs.td\"])"
   ]
  },
  {
   "cell_type": "code",
   "execution_count": 257,
   "id": "fbc263c1-4fba-4078-8495-eed0cbe2b457",
   "metadata": {},
   "outputs": [
    {
     "data": {
      "text/plain": [
       "Text(0.5, 1.0, 'Features Correlating with Term Deposit Subscription')"
      ]
     },
     "execution_count": 257,
     "metadata": {},
     "output_type": "execute_result"
    },
    {
     "data": {
      "image/png": "[encoded data removed]",
      "text/plain": [
       "<Figure size 360x720 with 2 Axes>"
      ]
     },
     "metadata": {
      "needs_background": "light"
     },
     "output_type": "display_data"
    }
   ],
   "source": [
    "#view correlation with target\n",
    "plt.figure(figsize=(5, 10))\n",
    "heatmap = sns.heatmap(dfc.corr()[['subs.td']].sort_values(by='subs.td', ascending=False), vmin=-1, vmax=1, annot=True, cmap='BrBG')\n",
    "heatmap.set_title('Features Correlating with Term Deposit Subscription', fontdict={'fontsize':15}, pad=16)"
   ]
  },
  {
   "cell_type": "markdown",
   "id": "b89d4bbb-a875-4a95-90b6-5e7720619722",
   "metadata": {},
   "source": [
    "- All of the features have decent correlation with the target features"
   ]
  },
  {
   "cell_type": "code",
   "execution_count": 258,
   "id": "d386ef8f-e51e-4a5a-b7c4-7d61beb9da9b",
   "metadata": {},
   "outputs": [],
   "source": [
    "#replace value\n",
    "dfc['pdays'].replace({999:-1},inplace=True)"
   ]
  },
  {
   "cell_type": "markdown",
   "id": "84731469-e455-40c1-a887-4ea101dc9796",
   "metadata": {},
   "source": [
    "- Replace 999 with -1, so that the computer does not think 999 is very high, and we will have a good scale of standardization too"
   ]
  },
  {
   "cell_type": "code",
   "execution_count": 259,
   "id": "cf54fdf3-7404-48a6-9597-ff75d11369fe",
   "metadata": {},
   "outputs": [],
   "source": [
    "#drop columns that i will not remove outliers\n",
    "cols=dfc.select_dtypes(['int64','float64']).drop(columns=['pdays','previous']).columns"
   ]
  },
  {
   "cell_type": "markdown",
   "id": "ee2a10a8-2736-4795-8394-4f4fdcce2bb8",
   "metadata": {},
   "source": [
    "- Dropping theese 2 columns from removing the outliers, becaus if i include it, i will lose most of the information from theese 2 features"
   ]
  },
  {
   "cell_type": "code",
   "execution_count": 260,
   "id": "5b22c3ea-f6a8-4ef4-a50d-5eb082edb15f",
   "metadata": {},
   "outputs": [
    {
     "name": "stdout",
     "output_type": "stream",
     "text": [
      "Jumlah baris sebelum memfilter outlier: 41176\n",
      "Jumlah baris setelah memfilter outlier: 35165\n"
     ]
    }
   ],
   "source": [
    "# Remove outlier outside 1,5 IQR for train data (x)\n",
    "\n",
    "\n",
    "print(f'Jumlah baris sebelum memfilter outlier: {len(dfc)}')\n",
    "\n",
    "filtered_entries = np.array([True] * len(dfc))\n",
    "for col in range(len(cols)):\n",
    "    Q1 = dfc[cols[col]].quantile(0.25)\n",
    "    Q3 = dfc[cols[col]].quantile(0.75)\n",
    "    IQR = Q3 - Q1\n",
    "    low_limit = Q1 - (IQR * 1.5)\n",
    "    high_limit = Q3 + (IQR * 1.5)\n",
    "\n",
    "    filtered_entries = ((dfc[cols[col]] >= low_limit) & (dfc[cols[col]] <= high_limit)) & filtered_entries\n",
    "    \n",
    "dfo = dfc[filtered_entries]\n",
    "\n",
    "print(f'Jumlah baris setelah memfilter outlier: {len(dfo)}')"
   ]
  },
  {
   "cell_type": "markdown",
   "id": "ccfa1a6b-deb9-4706-bb96-d98911fbfd69",
   "metadata": {},
   "source": [
    "## One Hot Encoding Categorical Data"
   ]
  },
  {
   "cell_type": "code",
   "execution_count": 261,
   "id": "a0a96ef5-b6d7-4f2c-a830-2d67adbfb59c",
   "metadata": {},
   "outputs": [],
   "source": [
    "#one hot encoding categorical variables:\n",
    "dfo=pd.get_dummies(dfo)"
   ]
  },
  {
   "cell_type": "code",
   "execution_count": 262,
   "id": "faf07cde-1286-4f97-b32b-fa9f5acfe4f6",
   "metadata": {},
   "outputs": [
    {
     "data": {
      "text/plain": [
       "Index(['age', 'duration', 'campaign', 'pdays', 'previous', 'cpi', 'cci',\n",
       "       'nr.emp', 'subs.td', 'job_admin.', 'job_blue-collar',\n",
       "       'job_entrepreneur', 'job_housemaid', 'job_management', 'job_retired',\n",
       "       'job_self-employed', 'job_services', 'job_student', 'job_technician',\n",
       "       'job_unemployed', 'job_unknown', 'marital_divorced', 'marital_married',\n",
       "       'marital_single', 'marital_unknown', 'education_basic.4y',\n",
       "       'education_basic.6y', 'education_basic.9y', 'education_high.school',\n",
       "       'education_illiterate', 'education_professional.course',\n",
       "       'education_university.degree', 'education_unknown', 'has.credit_no',\n",
       "       'has.credit_unknown', 'has.credit_yes', 'housing_no', 'housing_unknown',\n",
       "       'housing_yes', 'loan_no', 'loan_unknown', 'loan_yes',\n",
       "       'contact_cellular', 'contact_telephone', 'month_apr', 'month_aug',\n",
       "       'month_dec', 'month_jul', 'month_jun', 'month_mar', 'month_may',\n",
       "       'month_nov', 'month_oct', 'month_sep', 'day_of_week_fri',\n",
       "       'day_of_week_mon', 'day_of_week_thu', 'day_of_week_tue',\n",
       "       'day_of_week_wed', 'poutcome_failure', 'poutcome_nonexistent',\n",
       "       'poutcome_success'],\n",
       "      dtype='object')"
      ]
     },
     "execution_count": 262,
     "metadata": {},
     "output_type": "execute_result"
    }
   ],
   "source": [
    "#check columns after encoding\n",
    "dfo.columns"
   ]
  },
  {
   "cell_type": "code",
   "execution_count": 263,
   "id": "2b6b84ea-0f40-42a2-8eee-8af33de57d40",
   "metadata": {},
   "outputs": [],
   "source": [
    "#separate target and features\n",
    "x=dfo.drop(columns=['subs.td'])\n",
    "y=dfo['subs.td']"
   ]
  },
  {
   "cell_type": "code",
   "execution_count": 264,
   "id": "3a4da1a8-53db-410b-8730-ad819090485e",
   "metadata": {},
   "outputs": [],
   "source": [
    "#split dataset\n",
    "xtrain,xtest, ytrain, ytest= train_test_split(x,y, train_size=0.7, random_state=42, stratify = y)"
   ]
  },
  {
   "cell_type": "code",
   "execution_count": 265,
   "id": "b990223b-9947-4698-a90c-82249d773aa7",
   "metadata": {},
   "outputs": [],
   "source": [
    "#create general pipeline\n",
    "scale=Pipeline([(\"standard\", StandardScaler())])"
   ]
  },
  {
   "cell_type": "code",
   "execution_count": 266,
   "id": "728c0423-7c17-44d8-beb3-2c6959ea9100",
   "metadata": {},
   "outputs": [],
   "source": [
    "#fit transform xtrain and fit xtest\n",
    "xtrain_scaled=scale.fit_transform(xtrain) #train data\n",
    "xtest_scaled=scale.transform(xtest) #test data"
   ]
  },
  {
   "cell_type": "code",
   "execution_count": 267,
   "id": "f5ac6a8a-ed30-4060-9f73-ac7ae891e176",
   "metadata": {},
   "outputs": [
    {
     "name": "stdout",
     "output_type": "stream",
     "text": [
      "(24615, 61)\n",
      "(10550, 61)\n"
     ]
    }
   ],
   "source": [
    "#check shape\n",
    "print(xtrain_scaled.shape)\n",
    "print(xtest_scaled.shape)"
   ]
  },
  {
   "cell_type": "markdown",
   "id": "fe776162-f29e-4266-bab8-553fcf870c30",
   "metadata": {},
   "source": [
    "# 7. Define Model"
   ]
  },
  {
   "cell_type": "code",
   "execution_count": 268,
   "id": "84d5a858-dea0-4886-b9fa-226b6979a6bb",
   "metadata": {},
   "outputs": [],
   "source": [
    "#define models\n",
    "lr=LogisticRegression()\n",
    "svc=SVC()\n",
    "tree=DecisionTreeClassifier()\n",
    "forest=RandomForestClassifier()\n",
    "knn=KNeighborsClassifier()\n",
    "bayes=GaussianNB()\n",
    "xgb=XGBClassifier()"
   ]
  },
  {
   "cell_type": "markdown",
   "id": "fa3c5526-bcd0-4ebc-9acb-da822b2e144d",
   "metadata": {},
   "source": [
    "- The Above model was choosen because the target features is a categorical features\n",
    "- The Focus on this model is Accuracy and Precision, because we wanted to reduce False Positives.\n",
    "- The False positives means that a customer that is not subscribed is predicted as subscribed."
   ]
  },
  {
   "cell_type": "markdown",
   "id": "5f24f0f9-da1a-4454-862d-3739509c41dc",
   "metadata": {},
   "source": [
    "# 8. Train Model"
   ]
  },
  {
   "cell_type": "code",
   "execution_count": 269,
   "id": "faf5ee65-e7be-4c8f-b939-501213ba1578",
   "metadata": {},
   "outputs": [
    {
     "name": "stderr",
     "output_type": "stream",
     "text": [
      "C:\\Users\\User\\anaconda3\\lib\\site-packages\\xgboost\\sklearn.py:1224: UserWarning: The use of label encoder in XGBClassifier is deprecated and will be removed in a future release. To remove this warning, do the following: 1) Pass option use_label_encoder=False when constructing XGBClassifier object; and 2) Encode your labels (y) as integers starting with 0, i.e. 0, 1, 2, ..., [num_class - 1].\n",
      "  warnings.warn(label_encoder_deprecation_msg, UserWarning)\n"
     ]
    },
    {
     "name": "stdout",
     "output_type": "stream",
     "text": [
      "[17:22:32] WARNING: C:/Users/Administrator/workspace/xgboost-win64_release_1.5.1/src/learner.cc:1115: Starting in XGBoost 1.3.0, the default evaluation metric used with the objective 'binary:logistic' was changed from 'error' to 'logloss'. Explicitly set eval_metric if you'd like to restore the old behavior.\n"
     ]
    },
    {
     "data": {
      "text/plain": [
       "XGBClassifier(base_score=0.5, booster='gbtree', colsample_bylevel=1,\n",
       "              colsample_bynode=1, colsample_bytree=1, enable_categorical=False,\n",
       "              gamma=0, gpu_id=-1, importance_type=None,\n",
       "              interaction_constraints='', learning_rate=0.300000012,\n",
       "              max_delta_step=0, max_depth=6, min_child_weight=1, missing=nan,\n",
       "              monotone_constraints='()', n_estimators=100, n_jobs=4,\n",
       "              num_parallel_tree=1, predictor='auto', random_state=0,\n",
       "              reg_alpha=0, reg_lambda=1, scale_pos_weight=1, subsample=1,\n",
       "              tree_method='exact', validate_parameters=1, verbosity=None)"
      ]
     },
     "execution_count": 269,
     "metadata": {},
     "output_type": "execute_result"
    }
   ],
   "source": [
    "#fit model\n",
    "lr.fit(xtrain_scaled,ytrain)\n",
    "svc.fit(xtrain_scaled,ytrain)\n",
    "tree.fit(xtrain_scaled,ytrain)\n",
    "forest.fit(xtrain_scaled,ytrain)\n",
    "knn.fit(xtrain_scaled,ytrain)\n",
    "bayes.fit(xtrain_scaled,ytrain)\n",
    "xgb.fit(xtrain_scaled,ytrain)"
   ]
  },
  {
   "cell_type": "code",
   "execution_count": 270,
   "id": "ac6662e5-31af-484a-9c6c-ab42d347a534",
   "metadata": {},
   "outputs": [
    {
     "data": {
      "text/plain": [
       "5"
      ]
     },
     "execution_count": 270,
     "metadata": {},
     "output_type": "execute_result"
    }
   ],
   "source": [
    "#define statified k fold for later purposes\n",
    "skf=StratifiedKFold(n_splits=5,random_state=None)\n",
    "skf.get_n_splits(xtrain,ytrain)"
   ]
  },
  {
   "cell_type": "markdown",
   "id": "9b4c3ad3-f308-40e4-9ba2-23580d01bf14",
   "metadata": {},
   "source": [
    "# 9. Evaluate Model"
   ]
  },
  {
   "cell_type": "markdown",
   "id": "a18680df-c334-4096-a996-a50640a3f851",
   "metadata": {},
   "source": [
    "### Logistic Regression Standard"
   ]
  },
  {
   "cell_type": "code",
   "execution_count": 271,
   "id": "45a2d173-0877-4094-8f39-eb9a4aa49f77",
   "metadata": {},
   "outputs": [],
   "source": [
    "#predict train and test data\n",
    "ypred_train_log = lr.predict(xtrain_scaled)\n",
    "ypred_test_log=lr.predict(xtest_scaled)"
   ]
  },
  {
   "cell_type": "code",
   "execution_count": 272,
   "id": "86fb5bbf-d6d6-4bc9-8470-b887d7b04777",
   "metadata": {},
   "outputs": [
    {
     "name": "stdout",
     "output_type": "stream",
     "text": [
      "              precision    recall  f1-score   support\n",
      "\n",
      "           0       0.95      0.98      0.97      9731\n",
      "           1       0.65      0.38      0.48       819\n",
      "\n",
      "    accuracy                           0.94     10550\n",
      "   macro avg       0.80      0.68      0.72     10550\n",
      "weighted avg       0.93      0.94      0.93     10550\n",
      "\n",
      "ROC AUC: 0.6834185750535561\n",
      "Accuracy Score Train: 0.9387365427584806\n",
      "Accuracy Score Test: 0.9358293838862559\n",
      "Precision Score Train: 0.6700421940928271\n",
      "Precision Score Test: 0.6454918032786885\n",
      "F-1Score: 0.4820198928844683\n"
     ]
    },
    {
     "data": {
      "text/plain": [
       "<sklearn.metrics._plot.confusion_matrix.ConfusionMatrixDisplay at 0x1d8082ef760>"
      ]
     },
     "execution_count": 272,
     "metadata": {},
     "output_type": "execute_result"
    },
    {
     "data": {
      "image/png": "[encoded data removed]",
      "text/plain": [
       "<Figure size 432x288 with 2 Axes>"
      ]
     },
     "metadata": {
      "needs_background": "light"
     },
     "output_type": "display_data"
    }
   ],
   "source": [
    "#model evaluation\n",
    "print(classification_report(ytest, ypred_test_log))\n",
    "print('ROC AUC:',roc_auc_score(ytest, ypred_test_log))\n",
    "print('Accuracy Score Train:',accuracy_score(ytrain, ypred_train_log))\n",
    "print('Accuracy Score Test:',accuracy_score(ytest, ypred_test_log))\n",
    "print('Precision Score Train:',precision_score(ytrain, ypred_train_log))\n",
    "print('Precision Score Test:',precision_score(ytest, ypred_test_log))\n",
    "print('F-1Score:', f1_score(ytest, ypred_test_log))\n",
    "\n",
    "plot_confusion_matrix(lr, xtest_scaled, ytest)"
   ]
  },
  {
   "cell_type": "markdown",
   "id": "053afc75-ee71-448c-ab42-a2a4e8bba2cf",
   "metadata": {},
   "source": [
    "- The ROC AUC Score is 0.68, this value is above 0.5,but it is still far from 1.\n",
    "- The Accuracy does not differ much between train and test data, and the value is Quite high.\n",
    "- The Test Precision is slightly lower than the train data, meaning there is more False Positive on the predictions.\n",
    "- The F1 Score is closer to 0 than to 1"
   ]
  },
  {
   "cell_type": "markdown",
   "id": "c475f40f-0df8-4c6c-9ba3-38e205d38cd4",
   "metadata": {},
   "source": [
    "### Stratified K Fold LR"
   ]
  },
  {
   "cell_type": "code",
   "execution_count": 273,
   "id": "c1ab99f9-789f-4a37-9f21-e1b33c8236b6",
   "metadata": {},
   "outputs": [
    {
     "name": "stdout",
     "output_type": "stream",
     "text": [
      "Train [ 4887  4888  4889 ... 24612 24613 24614] validation [   0    1    2 ... 5268 5275 5279]\n",
      "Train [    0     1     2 ... 24612 24613 24614] validation [ 4887  4888  4889 ... 10461 10462 10480]\n",
      "Train [    0     1     2 ... 24612 24613 24614] validation [ 9789  9790  9791 ... 15079 15080 15094]\n",
      "Train [    0     1     2 ... 24612 24613 24614] validation [14745 14746 14747 ... 20245 20249 20278]\n",
      "Train [    0     1     2 ... 20245 20249 20278] validation [19652 19653 19654 ... 24612 24613 24614]\n",
      "[0.93682713792403, 0.9394678041844404, 0.9366240097501524, 0.9386552914889296, 0.9360146252285192]\n"
     ]
    },
    {
     "data": {
      "text/plain": [
       "0.9375177737152143"
      ]
     },
     "execution_count": 273,
     "metadata": {},
     "output_type": "execute_result"
    }
   ],
   "source": [
    "#check accuracy for each fold\n",
    "accuracy=[]\n",
    "\n",
    "for train_index,test_index in skf.split(xtrain,ytrain):\n",
    "    print('Train', train_index,'validation',test_index)\n",
    "    x1train,x1valid=xtrain.iloc[train_index],xtrain.iloc[test_index]\n",
    "    y1train,y1valid=ytrain.iloc[train_index],ytrain.iloc[test_index]\n",
    "    model=Pipeline([(\"standard\", StandardScaler()),(\"logreg\", lr)])\n",
    "    model.fit(x1train,y1train)\n",
    "    y_pred_valid = model.predict(x1valid).reshape(-1,)\n",
    "    score=accuracy_score(y_pred_valid,y1valid)\n",
    "    accuracy.append(score)\n",
    "\n",
    "print(accuracy)  \n",
    "np.array(accuracy).mean()"
   ]
  },
  {
   "cell_type": "markdown",
   "id": "15e15300-5f7a-418f-8f4d-99733183436f",
   "metadata": {},
   "source": [
    "- The mean from the accuracy values from each fold is not far from the standard logistic regression accuracy.\n",
    "- This means that high accuracy on the standard logistic regression is not just a coincidence"
   ]
  },
  {
   "cell_type": "markdown",
   "id": "fb4c3080-f3d2-46d4-9a2b-62063abd0589",
   "metadata": {},
   "source": [
    "### SVM Standard"
   ]
  },
  {
   "cell_type": "code",
   "execution_count": 274,
   "id": "2856d82a-aaf0-448b-9d25-c47f1bcf9ef8",
   "metadata": {},
   "outputs": [],
   "source": [
    "#predict train and test data\n",
    "ypred_train_svc = svc.predict(xtrain_scaled)\n",
    "ypred_test_svc=svc.predict(xtest_scaled)"
   ]
  },
  {
   "cell_type": "code",
   "execution_count": 275,
   "id": "9a2028e6-426b-4c63-8c58-b258e3396f58",
   "metadata": {},
   "outputs": [
    {
     "name": "stdout",
     "output_type": "stream",
     "text": [
      "              precision    recall  f1-score   support\n",
      "\n",
      "           0       0.95      0.99      0.97      9731\n",
      "           1       0.66      0.33      0.44       819\n",
      "\n",
      "    accuracy                           0.93     10550\n",
      "   macro avg       0.80      0.66      0.70     10550\n",
      "weighted avg       0.92      0.93      0.92     10550\n",
      "\n",
      "ROC AUC: 0.6565234226831185\n",
      "Accuracy Score Train: 0.95214300223441\n",
      "Accuracy Score Test: 0.9346919431279621\n",
      "Precision Score Train: 0.861796643632774\n",
      "Precision Score Test: 0.6600985221674877\n",
      "F-1Score: 0.43755102040816324\n"
     ]
    },
    {
     "data": {
      "text/plain": [
       "<sklearn.metrics._plot.confusion_matrix.ConfusionMatrixDisplay at 0x1d808464a60>"
      ]
     },
     "execution_count": 275,
     "metadata": {},
     "output_type": "execute_result"
    },
    {
     "data": {
      "image/png": "[encoded data removed]",
      "text/plain": [
       "<Figure size 432x288 with 2 Axes>"
      ]
     },
     "metadata": {
      "needs_background": "light"
     },
     "output_type": "display_data"
    }
   ],
   "source": [
    "#model evaluation\n",
    "print(classification_report(ytest, ypred_test_svc))\n",
    "print('ROC AUC:',roc_auc_score(ytest, ypred_test_svc))\n",
    "print('Accuracy Score Train:',accuracy_score(ytrain, ypred_train_svc))\n",
    "print('Accuracy Score Test:',accuracy_score(ytest, ypred_test_svc))\n",
    "print('Precision Score Train:',precision_score(ytrain, ypred_train_svc))\n",
    "print('Precision Score Test:',precision_score(ytest, ypred_test_svc))\n",
    "print('F-1Score:', f1_score(ytest, ypred_test_svc))\n",
    "\n",
    "plot_confusion_matrix(svc, xtest_scaled, ytest)"
   ]
  },
  {
   "cell_type": "markdown",
   "id": "e0003776-69d4-480d-aa70-fd7f8a05f565",
   "metadata": {},
   "source": [
    "- The ROC AUC Score is 0.65, this value is above 0.5,but it is still far from 1.\n",
    "- The Accuracy does not differ much between train and test data, and the value is Quite high.\n",
    "- The Test Precision is 0,2 points lower than the train data, meaning there is more False Positive on the predictions.\n",
    "- The F1 Score is closer to 0 than to 1"
   ]
  },
  {
   "cell_type": "markdown",
   "id": "e1a605f0-0bf7-4c51-bac0-4668f2069dc2",
   "metadata": {},
   "source": [
    "### Stratified K Fold SVM"
   ]
  },
  {
   "cell_type": "code",
   "execution_count": 276,
   "id": "12773e8d-73d3-4b1b-8422-98e683053469",
   "metadata": {},
   "outputs": [
    {
     "name": "stdout",
     "output_type": "stream",
     "text": [
      "Train [ 4887  4888  4889 ... 24612 24613 24614] validation [   0    1    2 ... 5268 5275 5279]\n",
      "Train [    0     1     2 ... 24612 24613 24614] validation [ 4887  4888  4889 ... 10461 10462 10480]\n",
      "Train [    0     1     2 ... 24612 24613 24614] validation [ 9789  9790  9791 ... 15079 15080 15094]\n",
      "Train [    0     1     2 ... 24612 24613 24614] validation [14745 14746 14747 ... 20245 20249 20278]\n",
      "Train [    0     1     2 ... 20245 20249 20278] validation [19652 19653 19654 ... 24612 24613 24614]\n",
      "[0.9345927280113752, 0.9372333942717855, 0.9347958561852528, 0.9384521633150518, 0.9360146252285192]\n"
     ]
    },
    {
     "data": {
      "text/plain": [
       "0.9362177534023969"
      ]
     },
     "execution_count": 276,
     "metadata": {},
     "output_type": "execute_result"
    }
   ],
   "source": [
    "#check accuracy for each fold\n",
    "accuracy=[]\n",
    "\n",
    "for train_index,test_index in skf.split(xtrain,ytrain):\n",
    "    print('Train', train_index,'validation',test_index)\n",
    "    x1train,x1valid=xtrain.iloc[train_index],xtrain.iloc[test_index]\n",
    "    y1train,y1valid=ytrain.iloc[train_index],ytrain.iloc[test_index]\n",
    "    model=Pipeline([(\"standard\", StandardScaler()),(\"svm\", svc)])\n",
    "    model.fit(x1train,y1train)\n",
    "    y_pred_valid = model.predict(x1valid).reshape(-1,)\n",
    "    score=accuracy_score(y_pred_valid,y1valid)\n",
    "    accuracy.append(score)\n",
    "\n",
    "print(accuracy)  \n",
    "np.array(accuracy).mean()"
   ]
  },
  {
   "cell_type": "markdown",
   "id": "4aa3ab6a-99db-4874-ab69-3327ce9c2e9a",
   "metadata": {},
   "source": [
    "- The mean from the accuracy values from each fold is not far from the standard SVM accuracy.\n",
    "- This means that high accuracy on the standard SVM is not just a coincidence"
   ]
  },
  {
   "cell_type": "markdown",
   "id": "84a6ad84-510e-4757-bf7c-f3acce99d81a",
   "metadata": {},
   "source": [
    "### Decision Tree Standard"
   ]
  },
  {
   "cell_type": "code",
   "execution_count": 277,
   "id": "6a6a988a-397a-407f-899a-460e23b9c778",
   "metadata": {},
   "outputs": [],
   "source": [
    "#predict train and test data\n",
    "ypred_train_tree = tree.predict(xtrain_scaled)\n",
    "ypred_test_tree=tree.predict(xtest_scaled)"
   ]
  },
  {
   "cell_type": "code",
   "execution_count": 278,
   "id": "3749267d-2567-411e-bfc4-190ff1f6da91",
   "metadata": {},
   "outputs": [
    {
     "name": "stdout",
     "output_type": "stream",
     "text": [
      "              precision    recall  f1-score   support\n",
      "\n",
      "           0       0.96      0.95      0.95      9731\n",
      "           1       0.46      0.48      0.47       819\n",
      "\n",
      "    accuracy                           0.92     10550\n",
      "   macro avg       0.71      0.72      0.71     10550\n",
      "weighted avg       0.92      0.92      0.92     10550\n",
      "\n",
      "ROC AUC: 0.7163876156271594\n",
      "Accuracy Score Train: 1.0\n",
      "Accuracy Score Test: 0.9151658767772511\n",
      "Precision Score Train: 1.0\n",
      "Precision Score Test: 0.45601851851851855\n",
      "F-1Score: 0.4682115270350565\n"
     ]
    },
    {
     "data": {
      "text/plain": [
       "<sklearn.metrics._plot.confusion_matrix.ConfusionMatrixDisplay at 0x1d81db35250>"
      ]
     },
     "execution_count": 278,
     "metadata": {},
     "output_type": "execute_result"
    },
    {
     "data": {
      "image/png": "[encoded data removed]",
      "text/plain": [
       "<Figure size 432x288 with 2 Axes>"
      ]
     },
     "metadata": {
      "needs_background": "light"
     },
     "output_type": "display_data"
    }
   ],
   "source": [
    "#model evaluation\n",
    "print(classification_report(ytest, ypred_test_tree))\n",
    "print('ROC AUC:',roc_auc_score(ytest, ypred_test_tree))\n",
    "print('Accuracy Score Train:',accuracy_score(ytrain, ypred_train_tree))\n",
    "print('Accuracy Score Test:',accuracy_score(ytest, ypred_test_tree))\n",
    "print('Precision Score Train:',precision_score(ytrain, ypred_train_tree))\n",
    "print('Precision Score Test:',precision_score(ytest, ypred_test_tree))\n",
    "print('F-1Score:', f1_score(ytest, ypred_test_tree))\n",
    "\n",
    "plot_confusion_matrix(tree, xtest_scaled, ytest)"
   ]
  },
  {
   "cell_type": "markdown",
   "id": "9684847f-943b-4e0b-9ea4-720097532752",
   "metadata": {},
   "source": [
    "- The ROC AUC Score is 0.71, this value is above 0.5,but it is still far from 1.\n",
    "- The Accuracy does not differ much between train and test data, and the value is Quite high.\n",
    "- The Test Precision is very low than the train data, meaning there is more False Positive on the predictions.\n",
    "- The F1 Score is closer to 0 than to 1"
   ]
  },
  {
   "cell_type": "markdown",
   "id": "4f959ed8-7f42-45cd-8c3b-bb7abfb7cfa7",
   "metadata": {},
   "source": [
    "### Stratified K Fold Decision Tree"
   ]
  },
  {
   "cell_type": "code",
   "execution_count": 279,
   "id": "64faeccd-b347-48a4-87f6-3027c6a967bb",
   "metadata": {},
   "outputs": [
    {
     "name": "stdout",
     "output_type": "stream",
     "text": [
      "Train [ 4887  4888  4889 ... 24612 24613 24614] validation [   0    1    2 ... 5268 5275 5279]\n",
      "Train [    0     1     2 ... 24612 24613 24614] validation [ 4887  4888  4889 ... 10461 10462 10480]\n",
      "Train [    0     1     2 ... 24612 24613 24614] validation [ 9789  9790  9791 ... 15079 15080 15094]\n",
      "Train [    0     1     2 ... 24612 24613 24614] validation [14745 14746 14747 ... 20245 20249 20278]\n",
      "Train [    0     1     2 ... 20245 20249 20278] validation [19652 19653 19654 ... 24612 24613 24614]\n",
      "[0.9150924233191143, 0.9179362177534024, 0.9120455007109486, 0.9171237050578915, 0.9126548852325818]\n"
     ]
    },
    {
     "data": {
      "text/plain": [
       "0.9149705464147878"
      ]
     },
     "execution_count": 279,
     "metadata": {},
     "output_type": "execute_result"
    }
   ],
   "source": [
    "#check accuracy for each fold\n",
    "accuracy=[]\n",
    "\n",
    "for train_index,test_index in skf.split(xtrain,ytrain):\n",
    "    print('Train', train_index,'validation',test_index)\n",
    "    x1train,x1valid=xtrain.iloc[train_index],xtrain.iloc[test_index]\n",
    "    y1train,y1valid=ytrain.iloc[train_index],ytrain.iloc[test_index]\n",
    "    model=Pipeline([(\"standard\", StandardScaler()),(\"tree\", tree)])\n",
    "    model.fit(x1train,y1train)\n",
    "    y_pred_valid = model.predict(x1valid).reshape(-1,)\n",
    "    score=accuracy_score(y_pred_valid,y1valid)\n",
    "    accuracy.append(score)\n",
    "\n",
    "print(accuracy)  \n",
    "np.array(accuracy).mean()"
   ]
  },
  {
   "cell_type": "markdown",
   "id": "cc78ab87-b735-43ff-a76e-4fc822358883",
   "metadata": {},
   "source": [
    "- The mean from the accuracy values from each fold is not far from the standard Decision Tree accuracy.\n",
    "- This means that high accuracy on the standard Decision Tree is not just a coincidence"
   ]
  },
  {
   "cell_type": "markdown",
   "id": "0a6f8871-bac5-4188-b6d6-df3cdd378587",
   "metadata": {},
   "source": [
    "### Random Forest Standard"
   ]
  },
  {
   "cell_type": "code",
   "execution_count": 280,
   "id": "101a4645-7896-4b24-8d9f-1cf911353dde",
   "metadata": {},
   "outputs": [],
   "source": [
    "#predict train and test data\n",
    "ypred_train_forest = forest.predict(xtrain_scaled)\n",
    "ypred_test_forest=forest.predict(xtest_scaled)"
   ]
  },
  {
   "cell_type": "code",
   "execution_count": 281,
   "id": "c16863e2-a919-48d5-bb20-c886cc178fd0",
   "metadata": {},
   "outputs": [
    {
     "name": "stdout",
     "output_type": "stream",
     "text": [
      "              precision    recall  f1-score   support\n",
      "\n",
      "           0       0.95      0.98      0.97      9731\n",
      "           1       0.65      0.41      0.50       819\n",
      "\n",
      "    accuracy                           0.94     10550\n",
      "   macro avg       0.80      0.69      0.73     10550\n",
      "weighted avg       0.93      0.94      0.93     10550\n",
      "\n",
      "ROC AUC: 0.6942534395005877\n",
      "Accuracy Score Train: 1.0\n",
      "Accuracy Score Test: 0.9372511848341232\n",
      "Precision Score Train: 1.0\n",
      "Precision Score Test: 0.6542239685658153\n",
      "F-1Score: 0.5015060240963854\n"
     ]
    },
    {
     "data": {
      "text/plain": [
       "<sklearn.metrics._plot.confusion_matrix.ConfusionMatrixDisplay at 0x1d80bfc05e0>"
      ]
     },
     "execution_count": 281,
     "metadata": {},
     "output_type": "execute_result"
    },
    {
     "data": {
      "image/png": "[encoded data removed]",
      "text/plain": [
       "<Figure size 432x288 with 2 Axes>"
      ]
     },
     "metadata": {
      "needs_background": "light"
     },
     "output_type": "display_data"
    }
   ],
   "source": [
    "#model evaluation\n",
    "print(classification_report(ytest, ypred_test_forest))\n",
    "print('ROC AUC:',roc_auc_score(ytest, ypred_test_forest))\n",
    "print('Accuracy Score Train:',accuracy_score(ytrain, ypred_train_forest))\n",
    "print('Accuracy Score Test:',accuracy_score(ytest, ypred_test_forest))\n",
    "print('Precision Score Train:',precision_score(ytrain, ypred_train_forest))\n",
    "print('Precision Score Test:',precision_score(ytest, ypred_test_forest))\n",
    "print('F-1Score:', f1_score(ytest, ypred_test_forest))\n",
    "\n",
    "plot_confusion_matrix(forest, xtest_scaled, ytest)"
   ]
  },
  {
   "cell_type": "markdown",
   "id": "056ae23e-bfd2-4ad3-bcf8-fd44732d3cf0",
   "metadata": {},
   "source": [
    "- The ROC AUC Score is 0.7, this value is above 0.5,but it is still far from 1.\n",
    "- The Accuracy does not differ much between train and test data, and the value is Quite high.\n",
    "- The Test Precision is very low than the train data, meaning there is more False Positive on the predictions.\n",
    "- The F1 Score is closer to 0 than to 1"
   ]
  },
  {
   "cell_type": "markdown",
   "id": "9d7d2173-7b19-4c29-b911-fdc11d64d1d9",
   "metadata": {},
   "source": [
    "### Stratified K Fold Random Forest"
   ]
  },
  {
   "cell_type": "code",
   "execution_count": 282,
   "id": "f979c9ea-c070-4987-a139-920c59518f28",
   "metadata": {},
   "outputs": [
    {
     "name": "stdout",
     "output_type": "stream",
     "text": [
      "Train [ 4887  4888  4889 ... 24612 24613 24614] validation [   0    1    2 ... 5268 5275 5279]\n",
      "Train [    0     1     2 ... 24612 24613 24614] validation [ 4887  4888  4889 ... 10461 10462 10480]\n",
      "Train [    0     1     2 ... 24612 24613 24614] validation [ 9789  9790  9791 ... 15079 15080 15094]\n",
      "Train [    0     1     2 ... 24612 24613 24614] validation [14745 14746 14747 ... 20245 20249 20278]\n",
      "Train [    0     1     2 ... 20245 20249 20278] validation [19652 19653 19654 ... 24612 24613 24614]\n",
      "[0.9150924233191143, 0.9179362177534024, 0.9120455007109486, 0.9171237050578915, 0.9126548852325818, 0.941905342270973, 0.9390615478366849, 0.9390615478366849, 0.9427178549664839, 0.9410928295754621]\n"
     ]
    },
    {
     "data": {
      "text/plain": [
       "0.9278691854560227"
      ]
     },
     "execution_count": 282,
     "metadata": {},
     "output_type": "execute_result"
    }
   ],
   "source": [
    "#check accuracy for each fold\n",
    "for train_index,test_index in skf.split(xtrain,ytrain) :\n",
    "    print('Train', train_index,'validation',test_index)\n",
    "    x1train,x1valid=xtrain.iloc[train_index],xtrain.iloc[test_index]\n",
    "    y1train,y1valid=ytrain.iloc[train_index],ytrain.iloc[test_index]\n",
    "    model=Pipeline([(\"standard\", StandardScaler()),(\"forest\", forest)])\n",
    "    model.fit(x1train,y1train)\n",
    "    y_pred_valid = model.predict(x1valid).reshape(-1,)\n",
    "    score=accuracy_score(y_pred_valid,y1valid)\n",
    "    accuracy.append(score)\n",
    "    \n",
    "\n",
    "print(accuracy)  \n",
    "np.array(accuracy).mean()"
   ]
  },
  {
   "cell_type": "markdown",
   "id": "0e4a3c01-c86c-4678-92ef-e80604ca1e7b",
   "metadata": {},
   "source": [
    "- The mean from the accuracy values from each fold is not far from the standard Random Forest accuracy.\n",
    "- This means that high accuracy on the standard Random Forest is not just a coincidence"
   ]
  },
  {
   "cell_type": "markdown",
   "id": "d954578d-e3f3-4fd0-9550-e86368a4340d",
   "metadata": {},
   "source": [
    "### KNN Standard"
   ]
  },
  {
   "cell_type": "code",
   "execution_count": 283,
   "id": "a726d9d4-bba0-4d01-890b-b89039df1f07",
   "metadata": {},
   "outputs": [],
   "source": [
    "#predict train and test data\n",
    "ypred_train_knn = knn.predict(xtrain_scaled)\n",
    "ypred_test_knn=knn.predict(xtest_scaled)"
   ]
  },
  {
   "cell_type": "code",
   "execution_count": 284,
   "id": "92757569-9e0f-4cfd-9b95-ffe7af5c67a7",
   "metadata": {},
   "outputs": [
    {
     "name": "stdout",
     "output_type": "stream",
     "text": [
      "              precision    recall  f1-score   support\n",
      "\n",
      "           0       0.94      0.98      0.96      9731\n",
      "           1       0.56      0.32      0.41       819\n",
      "\n",
      "    accuracy                           0.93     10550\n",
      "   macro avg       0.75      0.65      0.68     10550\n",
      "weighted avg       0.91      0.93      0.92     10550\n",
      "\n",
      "ROC AUC: 0.6491609020126129\n",
      "Accuracy Score Train: 0.9462522851919561\n",
      "Accuracy Score Test: 0.9272985781990521\n",
      "Precision Score Train: 0.753448275862069\n",
      "Precision Score Test: 0.5550847457627118\n",
      "F-1Score: 0.4058869093725794\n"
     ]
    },
    {
     "data": {
      "text/plain": [
       "<sklearn.metrics._plot.confusion_matrix.ConfusionMatrixDisplay at 0x1d805feebb0>"
      ]
     },
     "execution_count": 284,
     "metadata": {},
     "output_type": "execute_result"
    },
    {
     "data": {
      "image/png": "[encoded data removed]",
      "text/plain": [
       "<Figure size 432x288 with 2 Axes>"
      ]
     },
     "metadata": {
      "needs_background": "light"
     },
     "output_type": "display_data"
    }
   ],
   "source": [
    "#model evaluation\n",
    "print(classification_report(ytest, ypred_test_knn))\n",
    "print('ROC AUC:',roc_auc_score(ytest, ypred_test_knn))\n",
    "print('Accuracy Score Train:',accuracy_score(ytrain, ypred_train_knn))\n",
    "print('Accuracy Score Test:',accuracy_score(ytest, ypred_test_knn))\n",
    "print('Precision Score Train:',precision_score(ytrain, ypred_train_knn))\n",
    "print('Precision Score Test:',precision_score(ytest, ypred_test_knn))\n",
    "print('F-1Score:', f1_score(ytest, ypred_test_knn))\n",
    "\n",
    "plot_confusion_matrix(knn, xtest_scaled, ytest)"
   ]
  },
  {
   "cell_type": "markdown",
   "id": "b66ca9ae-1965-42f3-9a0e-689a75afaf67",
   "metadata": {},
   "source": [
    "- The ROC AUC Score is 0.64, this value is above 0.5,but it is still far from 1.\n",
    "- The Accuracy does not differ much between train and test data, and the value is Quite high.\n",
    "- The Test Precision is slightly lower than the train data, meaning there is more False Positive on the predictions.\n",
    "- The F1 Score is closer to 0 than to 1"
   ]
  },
  {
   "cell_type": "markdown",
   "id": "cee26e71-e468-4064-ba96-8bd2eb7d11da",
   "metadata": {},
   "source": [
    "### Stratified K Fold KNN"
   ]
  },
  {
   "cell_type": "code",
   "execution_count": 285,
   "id": "df49375a-41ac-449c-91ae-10cd4a6ea58e",
   "metadata": {},
   "outputs": [
    {
     "name": "stdout",
     "output_type": "stream",
     "text": [
      "Train [ 4887  4888  4889 ... 24612 24613 24614] validation [   0    1    2 ... 5268 5275 5279]\n",
      "Train [    0     1     2 ... 24612 24613 24614] validation [ 4887  4888  4889 ... 10461 10462 10480]\n",
      "Train [    0     1     2 ... 24612 24613 24614] validation [ 9789  9790  9791 ... 15079 15080 15094]\n",
      "Train [    0     1     2 ... 24612 24613 24614] validation [14745 14746 14747 ... 20245 20249 20278]\n",
      "Train [    0     1     2 ... 20245 20249 20278] validation [19652 19653 19654 ... 24612 24613 24614]\n",
      "[0.9299207800121877, 0.9345927280113752, 0.931139549055454, 0.9317489335770871, 0.9272801137517773]\n"
     ]
    },
    {
     "data": {
      "text/plain": [
       "0.9309364208815761"
      ]
     },
     "execution_count": 285,
     "metadata": {},
     "output_type": "execute_result"
    }
   ],
   "source": [
    "#check accuracy for each fold\n",
    "accuracy=[]\n",
    "\n",
    "for train_index,test_index in skf.split(xtrain,ytrain):\n",
    "    print('Train', train_index,'validation',test_index)\n",
    "    x1train,x1valid=xtrain.iloc[train_index],xtrain.iloc[test_index]\n",
    "    y1train,y1valid=ytrain.iloc[train_index],ytrain.iloc[test_index]\n",
    "    model=Pipeline([(\"standard\", StandardScaler()),(\"knn\", knn)])\n",
    "    model.fit(x1train,y1train)\n",
    "    y_pred_valid = model.predict(x1valid).reshape(-1,)\n",
    "    score=accuracy_score(y_pred_valid,y1valid)\n",
    "    accuracy.append(score)\n",
    "\n",
    "print(accuracy)  \n",
    "np.array(accuracy).mean()"
   ]
  },
  {
   "cell_type": "markdown",
   "id": "fcd1b72d-fb8e-4864-a5a0-e14b2aaac560",
   "metadata": {},
   "source": [
    "- The mean from the accuracy values from each fold is not far from the standard KNN accuracy.\n",
    "- This means that high accuracy on the standard KNN is not just a coincidence"
   ]
  },
  {
   "cell_type": "markdown",
   "id": "9ac41f0f-dccd-489a-abb0-4e3ba5f993db",
   "metadata": {},
   "source": [
    "### Naive Bayes Standard"
   ]
  },
  {
   "cell_type": "code",
   "execution_count": 286,
   "id": "a4ecfc07-3910-4adc-8fea-76efc004fc33",
   "metadata": {},
   "outputs": [],
   "source": [
    "#predict train and test data\n",
    "ypred_train_nb = bayes.predict(xtrain_scaled)\n",
    "ypred_test_nb=bayes.predict(xtest_scaled)"
   ]
  },
  {
   "cell_type": "code",
   "execution_count": 287,
   "id": "d9c46027-9a3d-445f-abdd-009a35dc8968",
   "metadata": {},
   "outputs": [
    {
     "name": "stdout",
     "output_type": "stream",
     "text": [
      "              precision    recall  f1-score   support\n",
      "\n",
      "           0       0.98      0.80      0.88      9731\n",
      "           1       0.25      0.79      0.38       819\n",
      "\n",
      "    accuracy                           0.80     10550\n",
      "   macro avg       0.61      0.79      0.63     10550\n",
      "weighted avg       0.92      0.80      0.84     10550\n",
      "\n",
      "ROC AUC: 0.7933842838785804\n",
      "Accuracy Score Train: 0.8016250253910218\n",
      "Accuracy Score Test: 0.8003791469194312\n",
      "Precision Score Train: 0.2554312047399605\n",
      "Precision Score Test: 0.2499028371550719\n",
      "F-1Score: 0.37912735849056606\n"
     ]
    },
    {
     "data": {
      "text/plain": [
       "<sklearn.metrics._plot.confusion_matrix.ConfusionMatrixDisplay at 0x1d806512c70>"
      ]
     },
     "execution_count": 287,
     "metadata": {},
     "output_type": "execute_result"
    },
    {
     "data": {
      "image/png": "[encoded data removed]",
      "text/plain": [
       "<Figure size 432x288 with 2 Axes>"
      ]
     },
     "metadata": {
      "needs_background": "light"
     },
     "output_type": "display_data"
    }
   ],
   "source": [
    "#model evaluation\n",
    "print(classification_report(ytest, ypred_test_nb))\n",
    "print('ROC AUC:',roc_auc_score(ytest, ypred_test_nb))\n",
    "print('Accuracy Score Train:',accuracy_score(ytrain, ypred_train_nb))\n",
    "print('Accuracy Score Test:',accuracy_score(ytest, ypred_test_nb))\n",
    "print('Precision Score Train:',precision_score(ytrain, ypred_train_nb))\n",
    "print('Precision Score Test:',precision_score(ytest, ypred_test_nb))\n",
    "print('F-1Score:', f1_score(ytest, ypred_test_nb))\n",
    "\n",
    "plot_confusion_matrix(bayes, xtest_scaled, ytest)"
   ]
  },
  {
   "cell_type": "markdown",
   "id": "5dd1114d-a820-4a57-8697-9956019e6707",
   "metadata": {},
   "source": [
    "- The ROC AUC Score is 0.79, this value is above 0.5,but it is still far from 1.\n",
    "- The Accuracy does not differ much between train and test data, and relatively low compared to other models, and the value is Quite high.\n",
    "- The Test Precision is slightly lower than the train data, and the value is very low.\n",
    "- The F1 Score is closer to 0 than to 1, and relatively low compared to other models"
   ]
  },
  {
   "cell_type": "markdown",
   "id": "21d868df-e6d6-422c-99e0-b13c8eaeeac8",
   "metadata": {},
   "source": [
    "### Stratified K Fold Naive Bayes"
   ]
  },
  {
   "cell_type": "code",
   "execution_count": 288,
   "id": "f18a039e-869d-496f-856c-2d625eaf4e41",
   "metadata": {},
   "outputs": [
    {
     "name": "stdout",
     "output_type": "stream",
     "text": [
      "Train [ 4887  4888  4889 ... 24612 24613 24614] validation [   0    1    2 ... 5268 5275 5279]\n",
      "Train [    0     1     2 ... 24612 24613 24614] validation [ 4887  4888  4889 ... 10461 10462 10480]\n",
      "Train [    0     1     2 ... 24612 24613 24614] validation [ 9789  9790  9791 ... 15079 15080 15094]\n",
      "Train [    0     1     2 ... 24612 24613 24614] validation [14745 14746 14747 ... 20245 20249 20278]\n",
      "Train [    0     1     2 ... 20245 20249 20278] validation [19652 19653 19654 ... 24612 24613 24614]\n",
      "[0.8021531586431038, 0.7986999796871826, 0.8108876701198456, 0.7936217753402397, 0.7873248019500305]\n"
     ]
    },
    {
     "data": {
      "text/plain": [
       "0.7985374771480804"
      ]
     },
     "execution_count": 288,
     "metadata": {},
     "output_type": "execute_result"
    }
   ],
   "source": [
    "#check accuracy for each fold\n",
    "accuracy=[]\n",
    "\n",
    "for train_index,test_index in skf.split(xtrain,ytrain):\n",
    "    print('Train', train_index,'validation',test_index)\n",
    "    x1train,x1valid=xtrain.iloc[train_index],xtrain.iloc[test_index]\n",
    "    y1train,y1valid=ytrain.iloc[train_index],ytrain.iloc[test_index]\n",
    "    model=Pipeline([(\"standard\", StandardScaler()),(\"bayes\", bayes)])\n",
    "    model.fit(x1train,y1train)\n",
    "    y_pred_valid = model.predict(x1valid).reshape(-1,)\n",
    "    score=accuracy_score(y_pred_valid,y1valid)\n",
    "    accuracy.append(score)\n",
    "\n",
    "print(accuracy)  \n",
    "np.array(accuracy).mean()"
   ]
  },
  {
   "cell_type": "markdown",
   "id": "dd3d259a-d10a-45d9-ab55-2a998d7eb62a",
   "metadata": {},
   "source": [
    "- The mean from the accuracy values from each fold is not far from the standard Naive Bayes accuracy.\n",
    "- This means that high accuracy on the standard Naive Bayes is not just a coincidence\n",
    "- Naive bayes have the lowest performing accuracy"
   ]
  },
  {
   "cell_type": "markdown",
   "id": "9a5448c6-8e7c-4103-a6ce-97c3b46756e7",
   "metadata": {},
   "source": [
    "### XGBoost Standard"
   ]
  },
  {
   "cell_type": "code",
   "execution_count": 289,
   "id": "ca38f5c8-6006-4619-9207-df08e7864019",
   "metadata": {},
   "outputs": [],
   "source": [
    "#predict train and test data\n",
    "ypred_train_xgb =xgb.predict(xtrain_scaled)\n",
    "ypred_test_xgb=xgb.predict(xtest_scaled)"
   ]
  },
  {
   "cell_type": "code",
   "execution_count": 290,
   "id": "7d3fe10e-498b-4218-9ed5-486114eb913b",
   "metadata": {},
   "outputs": [
    {
     "name": "stdout",
     "output_type": "stream",
     "text": [
      "              precision    recall  f1-score   support\n",
      "\n",
      "           0       0.95      0.98      0.97      9731\n",
      "           1       0.62      0.44      0.51       819\n",
      "\n",
      "    accuracy                           0.94     10550\n",
      "   macro avg       0.78      0.71      0.74     10550\n",
      "weighted avg       0.93      0.94      0.93     10550\n",
      "\n",
      "ROC AUC: 0.7076601107019358\n",
      "Accuracy Score Train: 0.9786715417428398\n",
      "Accuracy Score Test: 0.9351658767772512\n",
      "Precision Score Train: 0.9408396946564885\n",
      "Precision Score Test: 0.6157804459691252\n",
      "F-1Score: 0.5121255349500713\n"
     ]
    },
    {
     "data": {
      "text/plain": [
       "<sklearn.metrics._plot.confusion_matrix.ConfusionMatrixDisplay at 0x1d80b0340a0>"
      ]
     },
     "execution_count": 290,
     "metadata": {},
     "output_type": "execute_result"
    },
    {
     "data": {
      "image/png": "[encoded data removed]",
      "text/plain": [
       "<Figure size 432x288 with 2 Axes>"
      ]
     },
     "metadata": {
      "needs_background": "light"
     },
     "output_type": "display_data"
    }
   ],
   "source": [
    "#model evaluation\n",
    "print(classification_report(ytest, ypred_test_xgb))\n",
    "print('ROC AUC:',roc_auc_score(ytest, ypred_test_xgb))\n",
    "print('Accuracy Score Train:',accuracy_score(ytrain, ypred_train_xgb))\n",
    "print('Accuracy Score Test:',accuracy_score(ytest, ypred_test_xgb))\n",
    "print('Precision Score Train:',precision_score(ytrain, ypred_train_xgb))\n",
    "print('Precision Score Test:',precision_score(ytest, ypred_test_xgb))\n",
    "print('F-1Score:', f1_score(ytest, ypred_test_xgb))\n",
    "\n",
    "plot_confusion_matrix(xgb, xtest_scaled, ytest)"
   ]
  },
  {
   "cell_type": "markdown",
   "id": "34286167-4168-444b-a9dd-24b84d1d4edf",
   "metadata": {},
   "source": [
    "- The ROC AUC Score is 0.7, this value is above 0.5,but it is still far from 1.\n",
    "- The Accuracy does not differ much between train and test data, and relatively low compared to other models, and the value is Quite high.\n",
    "- The Test Precision is largely lower than the train data, and the value is very low.\n",
    "- The F1 Score is closer to 1 than to 0, but the number is very low."
   ]
  },
  {
   "cell_type": "markdown",
   "id": "98689888-3fdf-4b72-b8b2-76bd5c76353b",
   "metadata": {},
   "source": [
    "### Stratified K Fold XGBoost"
   ]
  },
  {
   "cell_type": "code",
   "execution_count": 291,
   "id": "4cdaf0e7-bc41-490f-a902-a17886f1ab52",
   "metadata": {},
   "outputs": [
    {
     "name": "stderr",
     "output_type": "stream",
     "text": [
      "C:\\Users\\User\\anaconda3\\lib\\site-packages\\xgboost\\sklearn.py:1224: UserWarning: The use of label encoder in XGBClassifier is deprecated and will be removed in a future release. To remove this warning, do the following: 1) Pass option use_label_encoder=False when constructing XGBClassifier object; and 2) Encode your labels (y) as integers starting with 0, i.e. 0, 1, 2, ..., [num_class - 1].\n",
      "  warnings.warn(label_encoder_deprecation_msg, UserWarning)\n"
     ]
    },
    {
     "name": "stdout",
     "output_type": "stream",
     "text": [
      "[17:26:55] WARNING: C:/Users/Administrator/workspace/xgboost-win64_release_1.5.1/src/learner.cc:1115: Starting in XGBoost 1.3.0, the default evaluation metric used with the objective 'binary:logistic' was changed from 'error' to 'logloss'. Explicitly set eval_metric if you'd like to restore the old behavior.\n"
     ]
    },
    {
     "name": "stderr",
     "output_type": "stream",
     "text": [
      "C:\\Users\\User\\anaconda3\\lib\\site-packages\\xgboost\\sklearn.py:1224: UserWarning: The use of label encoder in XGBClassifier is deprecated and will be removed in a future release. To remove this warning, do the following: 1) Pass option use_label_encoder=False when constructing XGBClassifier object; and 2) Encode your labels (y) as integers starting with 0, i.e. 0, 1, 2, ..., [num_class - 1].\n",
      "  warnings.warn(label_encoder_deprecation_msg, UserWarning)\n"
     ]
    },
    {
     "name": "stdout",
     "output_type": "stream",
     "text": [
      "[17:27:00] WARNING: C:/Users/Administrator/workspace/xgboost-win64_release_1.5.1/src/learner.cc:1115: Starting in XGBoost 1.3.0, the default evaluation metric used with the objective 'binary:logistic' was changed from 'error' to 'logloss'. Explicitly set eval_metric if you'd like to restore the old behavior.\n"
     ]
    },
    {
     "name": "stderr",
     "output_type": "stream",
     "text": [
      "C:\\Users\\User\\anaconda3\\lib\\site-packages\\xgboost\\sklearn.py:1224: UserWarning: The use of label encoder in XGBClassifier is deprecated and will be removed in a future release. To remove this warning, do the following: 1) Pass option use_label_encoder=False when constructing XGBClassifier object; and 2) Encode your labels (y) as integers starting with 0, i.e. 0, 1, 2, ..., [num_class - 1].\n",
      "  warnings.warn(label_encoder_deprecation_msg, UserWarning)\n"
     ]
    },
    {
     "name": "stdout",
     "output_type": "stream",
     "text": [
      "[17:27:05] WARNING: C:/Users/Administrator/workspace/xgboost-win64_release_1.5.1/src/learner.cc:1115: Starting in XGBoost 1.3.0, the default evaluation metric used with the objective 'binary:logistic' was changed from 'error' to 'logloss'. Explicitly set eval_metric if you'd like to restore the old behavior.\n"
     ]
    },
    {
     "name": "stderr",
     "output_type": "stream",
     "text": [
      "C:\\Users\\User\\anaconda3\\lib\\site-packages\\xgboost\\sklearn.py:1224: UserWarning: The use of label encoder in XGBClassifier is deprecated and will be removed in a future release. To remove this warning, do the following: 1) Pass option use_label_encoder=False when constructing XGBClassifier object; and 2) Encode your labels (y) as integers starting with 0, i.e. 0, 1, 2, ..., [num_class - 1].\n",
      "  warnings.warn(label_encoder_deprecation_msg, UserWarning)\n"
     ]
    },
    {
     "name": "stdout",
     "output_type": "stream",
     "text": [
      "[17:27:09] WARNING: C:/Users/Administrator/workspace/xgboost-win64_release_1.5.1/src/learner.cc:1115: Starting in XGBoost 1.3.0, the default evaluation metric used with the objective 'binary:logistic' was changed from 'error' to 'logloss'. Explicitly set eval_metric if you'd like to restore the old behavior.\n"
     ]
    },
    {
     "name": "stderr",
     "output_type": "stream",
     "text": [
      "C:\\Users\\User\\anaconda3\\lib\\site-packages\\xgboost\\sklearn.py:1224: UserWarning: The use of label encoder in XGBClassifier is deprecated and will be removed in a future release. To remove this warning, do the following: 1) Pass option use_label_encoder=False when constructing XGBClassifier object; and 2) Encode your labels (y) as integers starting with 0, i.e. 0, 1, 2, ..., [num_class - 1].\n",
      "  warnings.warn(label_encoder_deprecation_msg, UserWarning)\n"
     ]
    },
    {
     "name": "stdout",
     "output_type": "stream",
     "text": [
      "[17:27:15] WARNING: C:/Users/Administrator/workspace/xgboost-win64_release_1.5.1/src/learner.cc:1115: Starting in XGBoost 1.3.0, the default evaluation metric used with the objective 'binary:logistic' was changed from 'error' to 'logloss'. Explicitly set eval_metric if you'd like to restore the old behavior.\n",
      "[0.9396709323583181, 0.93682713792403, 0.9384521633150518, 0.9392646760105626, 0.9372333942717855]\n"
     ]
    },
    {
     "data": {
      "text/plain": [
       "0.9382896607759497"
      ]
     },
     "execution_count": 291,
     "metadata": {},
     "output_type": "execute_result"
    }
   ],
   "source": [
    "#check accuracy for each fold\n",
    "accuracy=[]\n",
    "\n",
    "for train_index,test_index in skf.split(xtrain,ytrain):\n",
    "    x1train,x1valid=xtrain.iloc[train_index],xtrain.iloc[test_index]\n",
    "    y1train,y1valid=ytrain.iloc[train_index],ytrain.iloc[test_index]\n",
    "    model=Pipeline([(\"standard\", StandardScaler()),(\"xgb\", xgb)])\n",
    "    model.fit(x1train,y1train)\n",
    "    y_pred_valid = model.predict(x1valid).reshape(-1,)\n",
    "    score=accuracy_score(y_pred_valid,y1valid)\n",
    "    accuracy.append(score)\n",
    "\n",
    "print(accuracy)  \n",
    "np.array(accuracy).mean()"
   ]
  },
  {
   "cell_type": "markdown",
   "id": "73c08df4-1acf-4441-a710-5ba8f8b6c6f5",
   "metadata": {},
   "source": [
    "- The mean from the accuracy values from each fold is not far from the standard XGBoost accuracy.\n",
    "- This means that high accuracy on the standard XGboost is not just a coincidence"
   ]
  },
  {
   "cell_type": "code",
   "execution_count": 292,
   "id": "e5f3444f-8e47-4486-8468-426986ed7923",
   "metadata": {},
   "outputs": [
    {
     "data": {
      "image/png": "[encoded data removed]",
      "text/plain": [
       "<Figure size 432x288 with 1 Axes>"
      ]
     },
     "metadata": {
      "needs_background": "light"
     },
     "output_type": "display_data"
    }
   ],
   "source": [
    "#show top 10 feature importance\n",
    "feat_importances = pd.Series(forest.feature_importances_, index=xtrain.columns)\n",
    "feat_importances.nlargest(10).plot(kind='barh').invert_yaxis()"
   ]
  },
  {
   "cell_type": "markdown",
   "id": "d89a3b2e-a9db-4821-96ff-9017b300c7d9",
   "metadata": {},
   "source": [
    "- The top 3 most affecting features on the predictions is Duration of the calls, Number of Employees and Age."
   ]
  },
  {
   "cell_type": "markdown",
   "id": "23e295e1-ff72-4c27-8edc-4919929000e1",
   "metadata": {},
   "source": [
    "## Model Insight:"
   ]
  },
  {
   "cell_type": "markdown",
   "id": "b74e133c-dcae-4ca6-ae5e-fda932f3b268",
   "metadata": {},
   "source": [
    "- Random Forest was choosen as the model which we will tune, because:\n",
    "1. Have the highest Precision from all models.\n",
    "2. Have a good accuracy relatively compared to other models.\n",
    "3. Even though it's roc auc score is slightly lower than Decision tree, but its precision is far more better than Decision Tree.\n",
    "4. Have the best F1 score from all other models."
   ]
  },
  {
   "cell_type": "markdown",
   "id": "9400257f-ff8d-4816-b4a7-01406616a453",
   "metadata": {},
   "source": [
    "## Hyperparameter Tuning Random Forest"
   ]
  },
  {
   "cell_type": "code",
   "execution_count": 293,
   "id": "9afe6700-58a3-4e11-afaa-e6533d2eab08",
   "metadata": {},
   "outputs": [],
   "source": [
    "#define parameters\n",
    "param_grid = {'forest__max_depth': [8,6,4],\n",
    "              'forest__min_samples_leaf':[3,5,1]}"
   ]
  },
  {
   "cell_type": "code",
   "execution_count": 294,
   "id": "d055f1b4-1de4-4a92-9e65-7f32b614bcdd",
   "metadata": {},
   "outputs": [],
   "source": [
    "#create random forest pipeline\n",
    "forest_pipe=Pipeline([('scaler',StandardScaler()),('forest',forest)])"
   ]
  },
  {
   "cell_type": "code",
   "execution_count": 295,
   "id": "e625c357-b18c-48db-9c97-772a88ecf640",
   "metadata": {},
   "outputs": [
    {
     "name": "stdout",
     "output_type": "stream",
     "text": [
      "Best cross-validation accuracy: 0.94\n",
      "Test set score: 0.94\n",
      "Best parameters: {'forest__max_depth': 8, 'forest__min_samples_leaf': 1}\n"
     ]
    }
   ],
   "source": [
    "# do grid search cross validation\n",
    "grid = GridSearchCV(forest_pipe, param_grid=param_grid, cv=skf.split(xtrain,ytrain)) #cv = nama variable skf,\n",
    "grid.fit(xtrain, ytrain)\n",
    "print(\"Best cross-validation accuracy: {:.2f}\".format(grid.best_score_))\n",
    "print(\"Test set score: {:.2f}\".format(grid.score(xtest, ytest)))\n",
    "print(\"Best parameters: {}\".format(grid.best_params_))"
   ]
  },
  {
   "cell_type": "markdown",
   "id": "bbc3f365-9020-412e-8b06-aeab4a113bd0",
   "metadata": {},
   "source": [
    "- The best parameters for depth of the trees is 8\n",
    "- The best parameters for min sample leaf is 3\n",
    "- The Accuracy does not differ much from standard random forest"
   ]
  },
  {
   "cell_type": "markdown",
   "id": "1489aa63-49fa-4176-8c30-46e3ceeeaa40",
   "metadata": {},
   "source": [
    "# 10. Model Inference (Random Forest)"
   ]
  },
  {
   "cell_type": "code",
   "execution_count": 296,
   "id": "3d00b104-51cc-40d8-bf40-3db06833edda",
   "metadata": {},
   "outputs": [],
   "source": [
    "#resample new data for inference\n",
    "xinf,yinf=resample(xtrain_scaled,ytrain,random_state=666)"
   ]
  },
  {
   "cell_type": "code",
   "execution_count": 297,
   "id": "a607b88b-a097-4f3a-ae3b-e685b95c6ab7",
   "metadata": {},
   "outputs": [],
   "source": [
    "#state the model with new params\n",
    "\n",
    "forest2=RandomForestClassifier(max_depth=8,min_samples_leaf=3)"
   ]
  },
  {
   "cell_type": "code",
   "execution_count": 298,
   "id": "3980b5ac-3a33-4a22-9dde-58cdac85c14e",
   "metadata": {},
   "outputs": [
    {
     "data": {
      "text/plain": [
       "RandomForestClassifier(max_depth=8, min_samples_leaf=3)"
      ]
     },
     "execution_count": 298,
     "metadata": {},
     "output_type": "execute_result"
    }
   ],
   "source": [
    "#fit data to model\n",
    "forest2.fit(xtrain_scaled,ytrain)"
   ]
  },
  {
   "cell_type": "code",
   "execution_count": 299,
   "id": "0c2db25b-18d5-47c7-9424-5cb889eb46a9",
   "metadata": {},
   "outputs": [],
   "source": [
    "#predict the validity data\n",
    "xinf_pred=forest.predict(xinf)"
   ]
  },
  {
   "cell_type": "code",
   "execution_count": 300,
   "id": "714d2fc5-4d7b-4d62-bfb2-95c648a5094e",
   "metadata": {},
   "outputs": [
    {
     "data": {
      "text/html": [
       "<div>\n",
       "<style scoped>\n",
       "    .dataframe tbody tr th:only-of-type {\n",
       "        vertical-align: middle;\n",
       "    }\n",
       "\n",
       "    .dataframe tbody tr th {\n",
       "        vertical-align: top;\n",
       "    }\n",
       "\n",
       "    .dataframe thead th {\n",
       "        text-align: right;\n",
       "    }\n",
       "</style>\n",
       "<table border=\"1\" class=\"dataframe\">\n",
       "  <thead>\n",
       "    <tr style=\"text-align: right;\">\n",
       "      <th></th>\n",
       "      <th>Actual</th>\n",
       "      <th>predict</th>\n",
       "    </tr>\n",
       "  </thead>\n",
       "  <tbody>\n",
       "    <tr>\n",
       "      <th>33134</th>\n",
       "      <td>0</td>\n",
       "      <td>0</td>\n",
       "    </tr>\n",
       "    <tr>\n",
       "      <th>12495</th>\n",
       "      <td>0</td>\n",
       "      <td>0</td>\n",
       "    </tr>\n",
       "    <tr>\n",
       "      <th>36023</th>\n",
       "      <td>0</td>\n",
       "      <td>0</td>\n",
       "    </tr>\n",
       "    <tr>\n",
       "      <th>6273</th>\n",
       "      <td>0</td>\n",
       "      <td>0</td>\n",
       "    </tr>\n",
       "    <tr>\n",
       "      <th>37406</th>\n",
       "      <td>1</td>\n",
       "      <td>1</td>\n",
       "    </tr>\n",
       "    <tr>\n",
       "      <th>28009</th>\n",
       "      <td>0</td>\n",
       "      <td>0</td>\n",
       "    </tr>\n",
       "    <tr>\n",
       "      <th>40251</th>\n",
       "      <td>1</td>\n",
       "      <td>1</td>\n",
       "    </tr>\n",
       "    <tr>\n",
       "      <th>394</th>\n",
       "      <td>0</td>\n",
       "      <td>0</td>\n",
       "    </tr>\n",
       "    <tr>\n",
       "      <th>7833</th>\n",
       "      <td>0</td>\n",
       "      <td>0</td>\n",
       "    </tr>\n",
       "    <tr>\n",
       "      <th>35308</th>\n",
       "      <td>0</td>\n",
       "      <td>0</td>\n",
       "    </tr>\n",
       "  </tbody>\n",
       "</table>\n",
       "</div>"
      ],
      "text/plain": [
       "       Actual  predict\n",
       "33134       0        0\n",
       "12495       0        0\n",
       "36023       0        0\n",
       "6273        0        0\n",
       "37406       1        1\n",
       "28009       0        0\n",
       "40251       1        1\n",
       "394         0        0\n",
       "7833        0        0\n",
       "35308       0        0"
      ]
     },
     "execution_count": 300,
     "metadata": {},
     "output_type": "execute_result"
    }
   ],
   "source": [
    "#compare with real data\n",
    "preds_inf=pd.DataFrame({'Actual':yinf, 'predict':xinf_pred})\n",
    "preds_inf.sample(10)"
   ]
  },
  {
   "cell_type": "markdown",
   "id": "0032b144-aabd-403c-8a66-462f3c3348cd",
   "metadata": {},
   "source": [
    "# 11. Summary"
   ]
  },
  {
   "cell_type": "markdown",
   "id": "d64e9d0d-47c7-4cb4-b6e9-4d7845950268",
   "metadata": {},
   "source": [
    "- Out of All models Random forest performs the best Accuracy and Precision\n",
    "- However, after hyperparemeter tuning, the model does not improve much\n",
    "- The worst model that performs is Naive Bayes, it has the lowest accuracy and precision compared to all models.\n",
    "- The best parameter from depth of the tree in random forest is 8.\n",
    "- The best parameter from min sample leaf in random forest is 3.\n",
    "- The top 3 most affecting features are: Duration, Number of Employees and Age of the clients.\n",
    "- XGBoost almost have the same result as Random Forest, however, Random Forest Precision is Better\n",
    "\n",
    "\n",
    "<b>Decision Making insights:</b>\n",
    "\n",
    "\n",
    "1. Use Random Forest model to predict the best results\n",
    "2. Duration, Number of Employees and Age are the most important features , but we can only take control the Duration of the call, so try to play with it because it does have a relatively decent correlation with the target (0.41).\n",
    "3. Other than duration,pdays, or number of days since last contact with client is also on the top 5 list , so try to play with it because it have a relatively decent correlation with the target (0.28)."
   ]
  }
 ],
 "metadata": {
  "kernelspec": {
   "display_name": "Python 3 (ipykernel)",
   "language": "python",
   "name": "python3"
  },
  "language_info": {
   "codemirror_mode": {
    "name": "ipython",
    "version": 3
   },
   "file_extension": ".py",
   "mimetype": "text/x-python",
   "name": "python",
   "nbconvert_exporter": "python",
   "pygments_lexer": "ipython3",
   "version": "3.9.7"
  }
 },
 "nbformat": 4,
 "nbformat_minor": 5
}
